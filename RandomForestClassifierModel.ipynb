{
 "cells": [
  {
   "cell_type": "markdown",
   "metadata": {},
   "source": [
    "<!-- Importing Libraries -->"
   ]
  },
  {
   "cell_type": "markdown",
   "metadata": {},
   "source": [
    "# Importing Libraries"
   ]
  },
  {
   "cell_type": "code",
   "execution_count": 2,
   "metadata": {},
   "outputs": [
    {
     "data": {
      "text/html": [
       "        <script type=\"text/javascript\">\n",
       "        window.PlotlyConfig = {MathJaxConfig: 'local'};\n",
       "        if (window.MathJax) {MathJax.Hub.Config({SVG: {font: \"STIX-Web\"}});}\n",
       "        if (typeof require !== 'undefined') {\n",
       "        require.undef(\"plotly\");\n",
       "        requirejs.config({\n",
       "            paths: {\n",
       "                'plotly': ['https://cdn.plot.ly/plotly-latest.min']\n",
       "            }\n",
       "        });\n",
       "        require(['plotly'], function(Plotly) {\n",
       "            window._Plotly = Plotly;\n",
       "        });\n",
       "        }\n",
       "        </script>\n",
       "        "
      ]
     },
     "metadata": {},
     "output_type": "display_data"
    }
   ],
   "source": [
    "import numpy as np \n",
    "import pandas as pd\n",
    "import pandas\n",
    "import seaborn as sns\n",
    "import matplotlib.pyplot as plt\n",
    "from collections import Counter\n",
    "%matplotlib inline\n",
    "import seaborn as sns; sns.set()\n",
    "\n",
    "from sklearn import tree\n",
    "import graphviz \n",
    "import os\n",
    "import preprocessing \n",
    "\n",
    "import numpy as np \n",
    "import pandas as pd \n",
    "from plotly.offline import init_notebook_mode, iplot, plot\n",
    "import plotly as py\n",
    "init_notebook_mode(connected=True)\n",
    "import plotly.graph_objs as go\n",
    "from wordcloud import WordCloud\n",
    "import matplotlib.pyplot as plt\n",
    "\n",
    "from pandas_profiling import ProfileReport\n",
    "\n",
    "from sklearn.feature_selection import SelectKBest\n",
    "from sklearn.feature_selection import chi2, f_classif\n",
    "from sklearn.model_selection import KFold\n",
    "from sklearn.feature_selection import SelectFromModel\n",
    "from sklearn.svm import LinearSVC\n",
    "\n",
    "from sklearn.model_selection import cross_val_score\n",
    "from sklearn.model_selection import cross_val_predict\n",
    "\n",
    "from sklearn.preprocessing import normalize\n",
    "from sklearn.preprocessing import StandardScaler, LabelEncoder, OneHotEncoder\n",
    "from sklearn.model_selection import train_test_split\n",
    "\n",
    "from sklearn.pipeline import Pipeline, make_pipeline\n",
    "from sklearn.decomposition import PCA\n",
    "\n",
    "from sklearn.naive_bayes import GaussianNB\n",
    "from sklearn.naive_bayes import MultinomialNB\n",
    "from sklearn.naive_bayes import BernoulliNB\n",
    "from sklearn.naive_bayes import CategoricalNB\n",
    "from sklearn.linear_model import LinearRegression\n",
    "from sklearn.neighbors import KNeighborsClassifier\n",
    "from sklearn.linear_model import LogisticRegression\n",
    "from sklearn.tree import DecisionTreeClassifier\n",
    "from sklearn.svm import SVC\n",
    "from sklearn.cluster import KMeans\n",
    "from sklearn.ensemble import RandomForestClassifier\n",
    "from sklearn.neighbors import KNeighborsClassifier\n",
    "from sklearn.ensemble import GradientBoostingClassifier\n",
    "from sklearn.preprocessing import StandardScaler\n",
    "from xgboost import XGBClassifier\n",
    "\n",
    "from sklearn.metrics import confusion_matrix, accuracy_score\n",
    "from sklearn.metrics import precision_score, recall_score, f1_score\n",
    "from sklearn.metrics import classification_report\n",
    "from sklearn.model_selection import GridSearchCV, cross_val_score\n",
    "from sklearn.model_selection import GridSearchCV\n",
    "\n",
    "from sklearn.naive_bayes import GaussianNB\n",
    "from sklearn.linear_model import SGDClassifier, LogisticRegression\n",
    "from sklearn.neighbors import KNeighborsClassifier\n",
    "from sklearn.tree import DecisionTreeClassifier\n",
    "from sklearn.ensemble import RandomForestClassifier\n",
    "from sklearn.svm import SVC\n",
    "from sklearn.neural_network import MLPClassifier\n",
    "from xgboost import XGBClassifier, XGBRFClassifier\n",
    "from xgboost import plot_tree, plot_importance\n",
    "\n",
    "from sklearn.metrics import confusion_matrix, accuracy_score, roc_auc_score, roc_curve\n",
    "from sklearn import preprocessing\n",
    "from sklearn.model_selection import train_test_split\n",
    "from sklearn.feature_selection import RFE\n",
    "\n",
    "from sklearn.decomposition import PCA\n",
    "from sklearn.discriminant_analysis import LinearDiscriminantAnalysis\n",
    "\n",
    "\n",
    "import warnings\n",
    "warnings.filterwarnings(\"ignore\")"
   ]
  },
  {
   "cell_type": "markdown",
   "metadata": {},
   "source": [
    "# Importing Dataset"
   ]
  },
  {
   "cell_type": "code",
   "execution_count": 3,
   "metadata": {},
   "outputs": [],
   "source": [
    "date = pd.read_csv(r\"E:\\Solution Challenge\\Cafe\\Cafe+-+DateInfo.csv\")\n",
    "transaction = pd.read_csv(r\"E:\\Solution Challenge\\Cafe\\Cafe+-+Transaction+-+Store.csv\")"
   ]
  },
  {
   "cell_type": "markdown",
   "metadata": {},
   "source": [
    "# Filtering Data"
   ]
  },
  {
   "cell_type": "code",
   "execution_count": 4,
   "metadata": {},
   "outputs": [],
   "source": [
    "transaction = transaction[transaction[\"SELL_ID\"] == 1070]"
   ]
  },
  {
   "cell_type": "code",
   "execution_count": 5,
   "metadata": {},
   "outputs": [],
   "source": [
    "transaction['YEAR'] = pd.DatetimeIndex(transaction['CALENDAR_DATE']).year\n",
    "transaction['DATE'] = pd.DatetimeIndex(transaction['CALENDAR_DATE']).day"
   ]
  },
  {
   "cell_type": "code",
   "execution_count": 6,
   "metadata": {},
   "outputs": [],
   "source": [
    "transaction = transaction[transaction[\"YEAR\"] == 2012]"
   ]
  },
  {
   "cell_type": "code",
   "execution_count": 7,
   "metadata": {},
   "outputs": [],
   "source": [
    "transaction = transaction.reset_index(drop = True)"
   ]
  },
  {
   "cell_type": "code",
   "execution_count": 8,
   "metadata": {},
   "outputs": [],
   "source": [
    "transaction = transaction.drop(['PRICE', 'SELL_CATEGORY'], axis = 1)\n"
   ]
  },
  {
   "cell_type": "code",
   "execution_count": 9,
   "metadata": {},
   "outputs": [],
   "source": [
    "date = date[date[\"YEAR\"] == 2012]"
   ]
  },
  {
   "cell_type": "code",
   "execution_count": 10,
   "metadata": {},
   "outputs": [],
   "source": [
    "date = date.drop(['CALENDAR_DATE', 'YEAR','IS_SCHOOLBREAK'], axis = 1)"
   ]
  },
  {
   "cell_type": "markdown",
   "metadata": {},
   "source": [
    "# Merging Datasets"
   ]
  },
  {
   "cell_type": "code",
   "execution_count": 11,
   "metadata": {},
   "outputs": [],
   "source": [
    "transaction['HOLIDAY'] = date['HOLIDAY']\n",
    "transaction['IS_WEEKEND'] = date['IS_WEEKEND']\n",
    "transaction['IS_OUTDOOR'] = date['IS_OUTDOOR']\n",
    "transaction['AVERAGE_TEMPERATURE'] = date['AVERAGE_TEMPERATURE']"
   ]
  },
  {
   "cell_type": "code",
   "execution_count": 12,
   "metadata": {},
   "outputs": [
    {
     "data": {
      "text/html": [
       "<div>\n",
       "<style scoped>\n",
       "    .dataframe tbody tr th:only-of-type {\n",
       "        vertical-align: middle;\n",
       "    }\n",
       "\n",
       "    .dataframe tbody tr th {\n",
       "        vertical-align: top;\n",
       "    }\n",
       "\n",
       "    .dataframe thead th {\n",
       "        text-align: right;\n",
       "    }\n",
       "</style>\n",
       "<table border=\"1\" class=\"dataframe\">\n",
       "  <thead>\n",
       "    <tr style=\"text-align: right;\">\n",
       "      <th></th>\n",
       "      <th>CALENDAR_DATE</th>\n",
       "      <th>QUANTITY</th>\n",
       "      <th>SELL_ID</th>\n",
       "      <th>YEAR</th>\n",
       "      <th>DATE</th>\n",
       "      <th>HOLIDAY</th>\n",
       "      <th>IS_WEEKEND</th>\n",
       "      <th>IS_OUTDOOR</th>\n",
       "      <th>AVERAGE_TEMPERATURE</th>\n",
       "    </tr>\n",
       "  </thead>\n",
       "  <tbody>\n",
       "    <tr>\n",
       "      <th>0</th>\n",
       "      <td>01/01/12</td>\n",
       "      <td>46</td>\n",
       "      <td>1070</td>\n",
       "      <td>2012</td>\n",
       "      <td>1</td>\n",
       "      <td>New Year</td>\n",
       "      <td>1</td>\n",
       "      <td>0</td>\n",
       "      <td>24.8</td>\n",
       "    </tr>\n",
       "    <tr>\n",
       "      <th>1</th>\n",
       "      <td>01/02/12</td>\n",
       "      <td>70</td>\n",
       "      <td>1070</td>\n",
       "      <td>2012</td>\n",
       "      <td>2</td>\n",
       "      <td>New Year</td>\n",
       "      <td>0</td>\n",
       "      <td>0</td>\n",
       "      <td>24.8</td>\n",
       "    </tr>\n",
       "    <tr>\n",
       "      <th>2</th>\n",
       "      <td>01/03/12</td>\n",
       "      <td>62</td>\n",
       "      <td>1070</td>\n",
       "      <td>2012</td>\n",
       "      <td>3</td>\n",
       "      <td>New Year</td>\n",
       "      <td>0</td>\n",
       "      <td>1</td>\n",
       "      <td>32.0</td>\n",
       "    </tr>\n",
       "    <tr>\n",
       "      <th>3</th>\n",
       "      <td>01/04/12</td>\n",
       "      <td>88</td>\n",
       "      <td>1070</td>\n",
       "      <td>2012</td>\n",
       "      <td>4</td>\n",
       "      <td>NaN</td>\n",
       "      <td>0</td>\n",
       "      <td>1</td>\n",
       "      <td>32.0</td>\n",
       "    </tr>\n",
       "    <tr>\n",
       "      <th>4</th>\n",
       "      <td>01/05/12</td>\n",
       "      <td>104</td>\n",
       "      <td>1070</td>\n",
       "      <td>2012</td>\n",
       "      <td>5</td>\n",
       "      <td>NaN</td>\n",
       "      <td>0</td>\n",
       "      <td>0</td>\n",
       "      <td>24.8</td>\n",
       "    </tr>\n",
       "  </tbody>\n",
       "</table>\n",
       "</div>"
      ],
      "text/plain": [
       "  CALENDAR_DATE  QUANTITY  SELL_ID  YEAR  DATE   HOLIDAY  IS_WEEKEND  \\\n",
       "0      01/01/12        46     1070  2012     1  New Year           1   \n",
       "1      01/02/12        70     1070  2012     2  New Year           0   \n",
       "2      01/03/12        62     1070  2012     3  New Year           0   \n",
       "3      01/04/12        88     1070  2012     4       NaN           0   \n",
       "4      01/05/12       104     1070  2012     5       NaN           0   \n",
       "\n",
       "   IS_OUTDOOR  AVERAGE_TEMPERATURE  \n",
       "0           0                 24.8  \n",
       "1           0                 24.8  \n",
       "2           1                 32.0  \n",
       "3           1                 32.0  \n",
       "4           0                 24.8  "
      ]
     },
     "execution_count": 12,
     "metadata": {},
     "output_type": "execute_result"
    }
   ],
   "source": [
    "transaction.head()"
   ]
  },
  {
   "cell_type": "code",
   "execution_count": 13,
   "metadata": {},
   "outputs": [
    {
     "name": "stdout",
     "output_type": "stream",
     "text": [
      "<class 'pandas.core.frame.DataFrame'>\n",
      "RangeIndex: 365 entries, 0 to 364\n",
      "Data columns (total 9 columns):\n",
      " #   Column               Non-Null Count  Dtype  \n",
      "---  ------               --------------  -----  \n",
      " 0   CALENDAR_DATE        365 non-null    object \n",
      " 1   QUANTITY             365 non-null    int64  \n",
      " 2   SELL_ID              365 non-null    int64  \n",
      " 3   YEAR                 365 non-null    int64  \n",
      " 4   DATE                 365 non-null    int64  \n",
      " 5   HOLIDAY              29 non-null     object \n",
      " 6   IS_WEEKEND           365 non-null    int64  \n",
      " 7   IS_OUTDOOR           365 non-null    int64  \n",
      " 8   AVERAGE_TEMPERATURE  365 non-null    float64\n",
      "dtypes: float64(1), int64(6), object(2)\n",
      "memory usage: 25.8+ KB\n"
     ]
    }
   ],
   "source": [
    "transaction.info()"
   ]
  },
  {
   "cell_type": "code",
   "execution_count": 14,
   "metadata": {},
   "outputs": [],
   "source": [
    "def bar_plot(variable):\n",
    "    # get feature\n",
    "    var = transaction[variable]\n",
    "    # count number of categorical variable(value/sample)\n",
    "    varValue = var.value_counts()\n",
    "    \n",
    "    # visualize\n",
    "    plt.figure(figsize = (9,3))\n",
    "    plt.bar(varValue.index, varValue)\n",
    "    plt.xticks(varValue.index, varValue.index.values)\n",
    "    plt.ylabel(\"Frequency\")\n",
    "    plt.title(variable)\n",
    "    plt.show()\n",
    "    print(\"{}:\\n{}\".format(variable,varValue))"
   ]
  },
  {
   "cell_type": "code",
   "execution_count": 15,
   "metadata": {},
   "outputs": [
    {
     "data": {
      "image/png": "[encoded data removed]",
      "text/plain": [
       "<Figure size 648x216 with 1 Axes>"
      ]
     },
     "metadata": {},
     "output_type": "display_data"
    },
    {
     "name": "stdout",
     "output_type": "stream",
     "text": [
      "HOLIDAY:\n",
      "Luner New Year          7\n",
      "National Day            7\n",
      "Mid-Autumn Day          3\n",
      "Dragon Boat Festivel    3\n",
      "New Year                3\n",
      "Qing Ming Festival      3\n",
      "Labor Day               3\n",
      "Name: HOLIDAY, dtype: int64\n"
     ]
    },
    {
     "data": {
      "image/png": "[encoded data removed]",
      "text/plain": [
       "<Figure size 648x216 with 1 Axes>"
      ]
     },
     "metadata": {},
     "output_type": "display_data"
    },
    {
     "name": "stdout",
     "output_type": "stream",
     "text": [
      "IS_WEEKEND:\n",
      "0    260\n",
      "1    105\n",
      "Name: IS_WEEKEND, dtype: int64\n"
     ]
    },
    {
     "data": {
      "image/png": "[encoded data removed]",
      "text/plain": [
       "<Figure size 648x216 with 1 Axes>"
      ]
     },
     "metadata": {},
     "output_type": "display_data"
    },
    {
     "name": "stdout",
     "output_type": "stream",
     "text": [
      "IS_OUTDOOR:\n",
      "1    325\n",
      "0     40\n",
      "Name: IS_OUTDOOR, dtype: int64\n"
     ]
    }
   ],
   "source": [
    "sns.set_style('darkgrid')\n",
    "categorical_variables = ['HOLIDAY','IS_WEEKEND','IS_OUTDOOR']\n",
    "for c in categorical_variables:\n",
    "    bar_plot(c)"
   ]
  },
  {
   "cell_type": "code",
   "execution_count": 16,
   "metadata": {},
   "outputs": [],
   "source": [
    "def plot_hist(variable):\n",
    "    plt.figure(figsize = (9,3))\n",
    "    plt.hist(transaction[variable], bins = 50)\n",
    "    plt.xlabel(variable)\n",
    "    plt.ylabel(\"Frequency\")\n",
    "    plt.title(\"{} Distribution with Histogram\".format(variable))\n",
    "    plt.show()"
   ]
  },
  {
   "cell_type": "code",
   "execution_count": 17,
   "metadata": {},
   "outputs": [
    {
     "data": {
      "image/png": "[encoded data removed]",
      "text/plain": [
       "<Figure size 648x216 with 1 Axes>"
      ]
     },
     "metadata": {},
     "output_type": "display_data"
    }
   ],
   "source": [
    "numerical_variables = ['AVERAGE_TEMPERATURE']\n",
    "for n in numerical_variables:\n",
    "    plot_hist(n)"
   ]
  },
  {
   "cell_type": "code",
   "execution_count": 18,
   "metadata": {},
   "outputs": [
    {
     "data": {
      "text/plain": [
       "CALENDAR_DATE           object\n",
       "QUANTITY                 int64\n",
       "SELL_ID                  int64\n",
       "YEAR                     int64\n",
       "DATE                     int64\n",
       "HOLIDAY                 object\n",
       "IS_WEEKEND               int64\n",
       "IS_OUTDOOR               int64\n",
       "AVERAGE_TEMPERATURE    float64\n",
       "dtype: object"
      ]
     },
     "execution_count": 18,
     "metadata": {},
     "output_type": "execute_result"
    }
   ],
   "source": [
    "transaction.dtypes"
   ]
  },
  {
   "cell_type": "markdown",
   "metadata": {},
   "source": [
    "# Basic Data Analysis"
   ]
  },
  {
   "cell_type": "code",
   "execution_count": 19,
   "metadata": {},
   "outputs": [],
   "source": [
    "# Average(mean) quantity rate by holiday"
   ]
  },
  {
   "cell_type": "code",
   "execution_count": 20,
   "metadata": {},
   "outputs": [
    {
     "data": {
      "text/html": [
       "<div>\n",
       "<style scoped>\n",
       "    .dataframe tbody tr th:only-of-type {\n",
       "        vertical-align: middle;\n",
       "    }\n",
       "\n",
       "    .dataframe tbody tr th {\n",
       "        vertical-align: top;\n",
       "    }\n",
       "\n",
       "    .dataframe thead th {\n",
       "        text-align: right;\n",
       "    }\n",
       "</style>\n",
       "<table border=\"1\" class=\"dataframe\">\n",
       "  <thead>\n",
       "    <tr style=\"text-align: right;\">\n",
       "      <th></th>\n",
       "      <th>HOLIDAY</th>\n",
       "      <th>QUANTITY</th>\n",
       "    </tr>\n",
       "  </thead>\n",
       "  <tbody>\n",
       "    <tr>\n",
       "      <th>1</th>\n",
       "      <td>Labor Day</td>\n",
       "      <td>63.333333</td>\n",
       "    </tr>\n",
       "    <tr>\n",
       "      <th>3</th>\n",
       "      <td>Mid-Autumn Day</td>\n",
       "      <td>61.333333</td>\n",
       "    </tr>\n",
       "    <tr>\n",
       "      <th>6</th>\n",
       "      <td>Qing Ming Festival</td>\n",
       "      <td>61.333333</td>\n",
       "    </tr>\n",
       "    <tr>\n",
       "      <th>0</th>\n",
       "      <td>Dragon Boat Festivel</td>\n",
       "      <td>60.666667</td>\n",
       "    </tr>\n",
       "    <tr>\n",
       "      <th>5</th>\n",
       "      <td>New Year</td>\n",
       "      <td>59.333333</td>\n",
       "    </tr>\n",
       "    <tr>\n",
       "      <th>4</th>\n",
       "      <td>National Day</td>\n",
       "      <td>56.571429</td>\n",
       "    </tr>\n",
       "    <tr>\n",
       "      <th>2</th>\n",
       "      <td>Luner New Year</td>\n",
       "      <td>54.000000</td>\n",
       "    </tr>\n",
       "  </tbody>\n",
       "</table>\n",
       "</div>"
      ],
      "text/plain": [
       "                HOLIDAY   QUANTITY\n",
       "1             Labor Day  63.333333\n",
       "3        Mid-Autumn Day  61.333333\n",
       "6    Qing Ming Festival  61.333333\n",
       "0  Dragon Boat Festivel  60.666667\n",
       "5              New Year  59.333333\n",
       "4          National Day  56.571429\n",
       "2        Luner New Year  54.000000"
      ]
     },
     "execution_count": 20,
     "metadata": {},
     "output_type": "execute_result"
    }
   ],
   "source": [
    "transaction[[\"HOLIDAY\",\"QUANTITY\"]].groupby([\"HOLIDAY\"], as_index = False).mean().sort_values(by=\"QUANTITY\",ascending = False)"
   ]
  },
  {
   "cell_type": "code",
   "execution_count": 21,
   "metadata": {},
   "outputs": [],
   "source": [
    "# Just checking occurence using pie graphs"
   ]
  },
  {
   "cell_type": "code",
   "execution_count": 22,
   "metadata": {},
   "outputs": [
    {
     "data": {
      "application/vnd.plotly.v1+json": {
       "config": {
        "linkText": "Export to plot.ly",
        "plotlyServerURL": "https://plot.ly",
        "showLink": false
       },
       "data": [
        {
         "domain": {
          "x": [
           0,
           0.5
          ]
         },
         "hole": 0.2,
         "hoverinfo": "label+percent+name+value",
         "labels": [
          "Luner New Year",
          "National Day",
          "Mid-Autumn Day",
          "Dragon Boat Festivel",
          "New Year",
          "Qing Ming Festival",
          "Labor Day"
         ],
         "name": "",
         "type": "pie",
         "values": [
          7,
          7,
          3,
          3,
          3,
          3,
          3
         ]
        }
       ],
       "layout": {
        "annotations": [
         {
          "font": {
           "size": 25
          },
          "showarrow": true,
          "text": "Is_Holiday",
          "x": 1,
          "y": 1
         }
        ],
        "template": {
         "data": {
          "bar": [
           {
            "error_x": {
             "color": "#2a3f5f"
            },
            "error_y": {
             "color": "#2a3f5f"
            },
            "marker": {
             "line": {
              "color": "#E5ECF6",
              "width": 0.5
             }
            },
            "type": "bar"
           }
          ],
          "barpolar": [
           {
            "marker": {
             "line": {
              "color": "#E5ECF6",
              "width": 0.5
             }
            },
            "type": "barpolar"
           }
          ],
          "carpet": [
           {
            "aaxis": {
             "endlinecolor": "#2a3f5f",
             "gridcolor": "white",
             "linecolor": "white",
             "minorgridcolor": "white",
             "startlinecolor": "#2a3f5f"
            },
            "baxis": {
             "endlinecolor": "#2a3f5f",
             "gridcolor": "white",
             "linecolor": "white",
             "minorgridcolor": "white",
             "startlinecolor": "#2a3f5f"
            },
            "type": "carpet"
           }
          ],
          "choropleth": [
           {
            "colorbar": {
             "outlinewidth": 0,
             "ticks": ""
            },
            "type": "choropleth"
           }
          ],
          "contour": [
           {
            "colorbar": {
             "outlinewidth": 0,
             "ticks": ""
            },
            "colorscale": [
             [
              0,
              "#0d0887"
             ],
             [
              0.1111111111111111,
              "#46039f"
             ],
             [
              0.2222222222222222,
              "#7201a8"
             ],
             [
              0.3333333333333333,
              "#9c179e"
             ],
             [
              0.4444444444444444,
              "#bd3786"
             ],
             [
              0.5555555555555556,
              "#d8576b"
             ],
             [
              0.6666666666666666,
              "#ed7953"
             ],
             [
              0.7777777777777778,
              "#fb9f3a"
             ],
             [
              0.8888888888888888,
              "#fdca26"
             ],
             [
              1,
              "#f0f921"
             ]
            ],
            "type": "contour"
           }
          ],
          "contourcarpet": [
           {
            "colorbar": {
             "outlinewidth": 0,
             "ticks": ""
            },
            "type": "contourcarpet"
           }
          ],
          "heatmap": [
           {
            "colorbar": {
             "outlinewidth": 0,
             "ticks": ""
            },
            "colorscale": [
             [
              0,
              "#0d0887"
             ],
             [
              0.1111111111111111,
              "#46039f"
             ],
             [
              0.2222222222222222,
              "#7201a8"
             ],
             [
              0.3333333333333333,
              "#9c179e"
             ],
             [
              0.4444444444444444,
              "#bd3786"
             ],
             [
              0.5555555555555556,
              "#d8576b"
             ],
             [
              0.6666666666666666,
              "#ed7953"
             ],
             [
              0.7777777777777778,
              "#fb9f3a"
             ],
             [
              0.8888888888888888,
              "#fdca26"
             ],
             [
              1,
              "#f0f921"
             ]
            ],
            "type": "heatmap"
           }
          ],
          "heatmapgl": [
           {
            "colorbar": {
             "outlinewidth": 0,
             "ticks": ""
            },
            "colorscale": [
             [
              0,
              "#0d0887"
             ],
             [
              0.1111111111111111,
              "#46039f"
             ],
             [
              0.2222222222222222,
              "#7201a8"
             ],
             [
              0.3333333333333333,
              "#9c179e"
             ],
             [
              0.4444444444444444,
              "#bd3786"
             ],
             [
              0.5555555555555556,
              "#d8576b"
             ],
             [
              0.6666666666666666,
              "#ed7953"
             ],
             [
              0.7777777777777778,
              "#fb9f3a"
             ],
             [
              0.8888888888888888,
              "#fdca26"
             ],
             [
              1,
              "#f0f921"
             ]
            ],
            "type": "heatmapgl"
           }
          ],
          "histogram": [
           {
            "marker": {
             "colorbar": {
              "outlinewidth": 0,
              "ticks": ""
             }
            },
            "type": "histogram"
           }
          ],
          "histogram2d": [
           {
            "colorbar": {
             "outlinewidth": 0,
             "ticks": ""
            },
            "colorscale": [
             [
              0,
              "#0d0887"
             ],
             [
              0.1111111111111111,
              "#46039f"
             ],
             [
              0.2222222222222222,
              "#7201a8"
             ],
             [
              0.3333333333333333,
              "#9c179e"
             ],
             [
              0.4444444444444444,
              "#bd3786"
             ],
             [
              0.5555555555555556,
              "#d8576b"
             ],
             [
              0.6666666666666666,
              "#ed7953"
             ],
             [
              0.7777777777777778,
              "#fb9f3a"
             ],
             [
              0.8888888888888888,
              "#fdca26"
             ],
             [
              1,
              "#f0f921"
             ]
            ],
            "type": "histogram2d"
           }
          ],
          "histogram2dcontour": [
           {
            "colorbar": {
             "outlinewidth": 0,
             "ticks": ""
            },
            "colorscale": [
             [
              0,
              "#0d0887"
             ],
             [
              0.1111111111111111,
              "#46039f"
             ],
             [
              0.2222222222222222,
              "#7201a8"
             ],
             [
              0.3333333333333333,
              "#9c179e"
             ],
             [
              0.4444444444444444,
              "#bd3786"
             ],
             [
              0.5555555555555556,
              "#d8576b"
             ],
             [
              0.6666666666666666,
              "#ed7953"
             ],
             [
              0.7777777777777778,
              "#fb9f3a"
             ],
             [
              0.8888888888888888,
              "#fdca26"
             ],
             [
              1,
              "#f0f921"
             ]
            ],
            "type": "histogram2dcontour"
           }
          ],
          "mesh3d": [
           {
            "colorbar": {
             "outlinewidth": 0,
             "ticks": ""
            },
            "type": "mesh3d"
           }
          ],
          "parcoords": [
           {
            "line": {
             "colorbar": {
              "outlinewidth": 0,
              "ticks": ""
             }
            },
            "type": "parcoords"
           }
          ],
          "pie": [
           {
            "automargin": true,
            "type": "pie"
           }
          ],
          "scatter": [
           {
            "marker": {
             "colorbar": {
              "outlinewidth": 0,
              "ticks": ""
             }
            },
            "type": "scatter"
           }
          ],
          "scatter3d": [
           {
            "line": {
             "colorbar": {
              "outlinewidth": 0,
              "ticks": ""
             }
            },
            "marker": {
             "colorbar": {
              "outlinewidth": 0,
              "ticks": ""
             }
            },
            "type": "scatter3d"
           }
          ],
          "scattercarpet": [
           {
            "marker": {
             "colorbar": {
              "outlinewidth": 0,
              "ticks": ""
             }
            },
            "type": "scattercarpet"
           }
          ],
          "scattergeo": [
           {
            "marker": {
             "colorbar": {
              "outlinewidth": 0,
              "ticks": ""
             }
            },
            "type": "scattergeo"
           }
          ],
          "scattergl": [
           {
            "marker": {
             "colorbar": {
              "outlinewidth": 0,
              "ticks": ""
             }
            },
            "type": "scattergl"
           }
          ],
          "scattermapbox": [
           {
            "marker": {
             "colorbar": {
              "outlinewidth": 0,
              "ticks": ""
             }
            },
            "type": "scattermapbox"
           }
          ],
          "scatterpolar": [
           {
            "marker": {
             "colorbar": {
              "outlinewidth": 0,
              "ticks": ""
             }
            },
            "type": "scatterpolar"
           }
          ],
          "scatterpolargl": [
           {
            "marker": {
             "colorbar": {
              "outlinewidth": 0,
              "ticks": ""
             }
            },
            "type": "scatterpolargl"
           }
          ],
          "scatterternary": [
           {
            "marker": {
             "colorbar": {
              "outlinewidth": 0,
              "ticks": ""
             }
            },
            "type": "scatterternary"
           }
          ],
          "surface": [
           {
            "colorbar": {
             "outlinewidth": 0,
             "ticks": ""
            },
            "colorscale": [
             [
              0,
              "#0d0887"
             ],
             [
              0.1111111111111111,
              "#46039f"
             ],
             [
              0.2222222222222222,
              "#7201a8"
             ],
             [
              0.3333333333333333,
              "#9c179e"
             ],
             [
              0.4444444444444444,
              "#bd3786"
             ],
             [
              0.5555555555555556,
              "#d8576b"
             ],
             [
              0.6666666666666666,
              "#ed7953"
             ],
             [
              0.7777777777777778,
              "#fb9f3a"
             ],
             [
              0.8888888888888888,
              "#fdca26"
             ],
             [
              1,
              "#f0f921"
             ]
            ],
            "type": "surface"
           }
          ],
          "table": [
           {
            "cells": {
             "fill": {
              "color": "#EBF0F8"
             },
             "line": {
              "color": "white"
             }
            },
            "header": {
             "fill": {
              "color": "#C8D4E3"
             },
             "line": {
              "color": "white"
             }
            },
            "type": "table"
           }
          ]
         },
         "layout": {
          "annotationdefaults": {
           "arrowcolor": "#2a3f5f",
           "arrowhead": 0,
           "arrowwidth": 1
          },
          "autotypenumbers": "strict",
          "coloraxis": {
           "colorbar": {
            "outlinewidth": 0,
            "ticks": ""
           }
          },
          "colorscale": {
           "diverging": [
            [
             0,
             "#8e0152"
            ],
            [
             0.1,
             "#c51b7d"
            ],
            [
             0.2,
             "#de77ae"
            ],
            [
             0.3,
             "#f1b6da"
            ],
            [
             0.4,
             "#fde0ef"
            ],
            [
             0.5,
             "#f7f7f7"
            ],
            [
             0.6,
             "#e6f5d0"
            ],
            [
             0.7,
             "#b8e186"
            ],
            [
             0.8,
             "#7fbc41"
            ],
            [
             0.9,
             "#4d9221"
            ],
            [
             1,
             "#276419"
            ]
           ],
           "sequential": [
            [
             0,
             "#0d0887"
            ],
            [
             0.1111111111111111,
             "#46039f"
            ],
            [
             0.2222222222222222,
             "#7201a8"
            ],
            [
             0.3333333333333333,
             "#9c179e"
            ],
            [
             0.4444444444444444,
             "#bd3786"
            ],
            [
             0.5555555555555556,
             "#d8576b"
            ],
            [
             0.6666666666666666,
             "#ed7953"
            ],
            [
             0.7777777777777778,
             "#fb9f3a"
            ],
            [
             0.8888888888888888,
             "#fdca26"
            ],
            [
             1,
             "#f0f921"
            ]
           ],
           "sequentialminus": [
            [
             0,
             "#0d0887"
            ],
            [
             0.1111111111111111,
             "#46039f"
            ],
            [
             0.2222222222222222,
             "#7201a8"
            ],
            [
             0.3333333333333333,
             "#9c179e"
            ],
            [
             0.4444444444444444,
             "#bd3786"
            ],
            [
             0.5555555555555556,
             "#d8576b"
            ],
            [
             0.6666666666666666,
             "#ed7953"
            ],
            [
             0.7777777777777778,
             "#fb9f3a"
            ],
            [
             0.8888888888888888,
             "#fdca26"
            ],
            [
             1,
             "#f0f921"
            ]
           ]
          },
          "colorway": [
           "#636efa",
           "#EF553B",
           "#00cc96",
           "#ab63fa",
           "#FFA15A",
           "#19d3f3",
           "#FF6692",
           "#B6E880",
           "#FF97FF",
           "#FECB52"
          ],
          "font": {
           "color": "#2a3f5f"
          },
          "geo": {
           "bgcolor": "white",
           "lakecolor": "white",
           "landcolor": "#E5ECF6",
           "showlakes": true,
           "showland": true,
           "subunitcolor": "white"
          },
          "hoverlabel": {
           "align": "left"
          },
          "hovermode": "closest",
          "mapbox": {
           "style": "light"
          },
          "paper_bgcolor": "white",
          "plot_bgcolor": "#E5ECF6",
          "polar": {
           "angularaxis": {
            "gridcolor": "white",
            "linecolor": "white",
            "ticks": ""
           },
           "bgcolor": "#E5ECF6",
           "radialaxis": {
            "gridcolor": "white",
            "linecolor": "white",
            "ticks": ""
           }
          },
          "scene": {
           "xaxis": {
            "backgroundcolor": "#E5ECF6",
            "gridcolor": "white",
            "gridwidth": 2,
            "linecolor": "white",
            "showbackground": true,
            "ticks": "",
            "zerolinecolor": "white"
           },
           "yaxis": {
            "backgroundcolor": "#E5ECF6",
            "gridcolor": "white",
            "gridwidth": 2,
            "linecolor": "white",
            "showbackground": true,
            "ticks": "",
            "zerolinecolor": "white"
           },
           "zaxis": {
            "backgroundcolor": "#E5ECF6",
            "gridcolor": "white",
            "gridwidth": 2,
            "linecolor": "white",
            "showbackground": true,
            "ticks": "",
            "zerolinecolor": "white"
           }
          },
          "shapedefaults": {
           "line": {
            "color": "#2a3f5f"
           }
          },
          "ternary": {
           "aaxis": {
            "gridcolor": "white",
            "linecolor": "white",
            "ticks": ""
           },
           "baxis": {
            "gridcolor": "white",
            "linecolor": "white",
            "ticks": ""
           },
           "bgcolor": "#E5ECF6",
           "caxis": {
            "gridcolor": "white",
            "linecolor": "white",
            "ticks": ""
           }
          },
          "title": {
           "x": 0.05
          },
          "xaxis": {
           "automargin": true,
           "gridcolor": "white",
           "linecolor": "white",
           "ticks": "",
           "title": {
            "standoff": 15
           },
           "zerolinecolor": "white",
           "zerolinewidth": 2
          },
          "yaxis": {
           "automargin": true,
           "gridcolor": "white",
           "linecolor": "white",
           "ticks": "",
           "title": {
            "standoff": 15
           },
           "zerolinecolor": "white",
           "zerolinewidth": 2
          }
         }
        },
        "title": {
         "text": "Distribution based on Holidays"
        }
       }
      },
      "text/html": [
       "<div>                            <div id=\"b4150693-68ca-409f-9e5f-95add394629d\" class=\"plotly-graph-div\" style=\"height:525px; width:100%;\"></div>            <script type=\"text/javascript\">                require([\"plotly\"], function(Plotly) {                    window.PLOTLYENV=window.PLOTLYENV || {};                                    if (document.getElementById(\"b4150693-68ca-409f-9e5f-95add394629d\")) {                    Plotly.newPlot(                        \"b4150693-68ca-409f-9e5f-95add394629d\",                        [{\"domain\": {\"x\": [0, 0.5]}, \"hole\": 0.2, \"hoverinfo\": \"label+percent+name+value\", \"labels\": [\"Luner New Year\", \"National Day\", \"Mid-Autumn Day\", \"Dragon Boat Festivel\", \"New Year\", \"Qing Ming Festival\", \"Labor Day\"], \"name\": \"\", \"type\": \"pie\", \"values\": [7, 7, 3, 3, 3, 3, 3]}],                        {\"annotations\": [{\"font\": {\"size\": 25}, \"showarrow\": true, \"text\": \"Is_Holiday\", \"x\": 1, \"y\": 1}], \"template\": {\"data\": {\"bar\": [{\"error_x\": {\"color\": \"#2a3f5f\"}, \"error_y\": {\"color\": \"#2a3f5f\"}, \"marker\": {\"line\": {\"color\": \"#E5ECF6\", \"width\": 0.5}}, \"type\": \"bar\"}], \"barpolar\": [{\"marker\": {\"line\": {\"color\": \"#E5ECF6\", \"width\": 0.5}}, \"type\": \"barpolar\"}], \"carpet\": [{\"aaxis\": {\"endlinecolor\": \"#2a3f5f\", \"gridcolor\": \"white\", \"linecolor\": \"white\", \"minorgridcolor\": \"white\", \"startlinecolor\": \"#2a3f5f\"}, \"baxis\": {\"endlinecolor\": \"#2a3f5f\", \"gridcolor\": \"white\", \"linecolor\": \"white\", \"minorgridcolor\": \"white\", \"startlinecolor\": \"#2a3f5f\"}, \"type\": \"carpet\"}], \"choropleth\": [{\"colorbar\": {\"outlinewidth\": 0, \"ticks\": \"\"}, \"type\": \"choropleth\"}], \"contour\": [{\"colorbar\": {\"outlinewidth\": 0, \"ticks\": \"\"}, \"colorscale\": [[0.0, \"#0d0887\"], [0.1111111111111111, \"#46039f\"], [0.2222222222222222, \"#7201a8\"], [0.3333333333333333, \"#9c179e\"], [0.4444444444444444, \"#bd3786\"], [0.5555555555555556, \"#d8576b\"], [0.6666666666666666, \"#ed7953\"], [0.7777777777777778, \"#fb9f3a\"], [0.8888888888888888, \"#fdca26\"], [1.0, \"#f0f921\"]], \"type\": \"contour\"}], \"contourcarpet\": [{\"colorbar\": {\"outlinewidth\": 0, \"ticks\": \"\"}, \"type\": \"contourcarpet\"}], \"heatmap\": [{\"colorbar\": {\"outlinewidth\": 0, \"ticks\": \"\"}, \"colorscale\": [[0.0, \"#0d0887\"], [0.1111111111111111, \"#46039f\"], [0.2222222222222222, \"#7201a8\"], [0.3333333333333333, \"#9c179e\"], [0.4444444444444444, \"#bd3786\"], [0.5555555555555556, \"#d8576b\"], [0.6666666666666666, \"#ed7953\"], [0.7777777777777778, \"#fb9f3a\"], [0.8888888888888888, \"#fdca26\"], [1.0, \"#f0f921\"]], \"type\": \"heatmap\"}], \"heatmapgl\": [{\"colorbar\": {\"outlinewidth\": 0, \"ticks\": \"\"}, \"colorscale\": [[0.0, \"#0d0887\"], [0.1111111111111111, \"#46039f\"], [0.2222222222222222, \"#7201a8\"], [0.3333333333333333, \"#9c179e\"], [0.4444444444444444, \"#bd3786\"], [0.5555555555555556, \"#d8576b\"], [0.6666666666666666, \"#ed7953\"], [0.7777777777777778, \"#fb9f3a\"], [0.8888888888888888, \"#fdca26\"], [1.0, \"#f0f921\"]], \"type\": \"heatmapgl\"}], \"histogram\": [{\"marker\": {\"colorbar\": {\"outlinewidth\": 0, \"ticks\": \"\"}}, \"type\": \"histogram\"}], \"histogram2d\": [{\"colorbar\": {\"outlinewidth\": 0, \"ticks\": \"\"}, \"colorscale\": [[0.0, \"#0d0887\"], [0.1111111111111111, \"#46039f\"], [0.2222222222222222, \"#7201a8\"], [0.3333333333333333, \"#9c179e\"], [0.4444444444444444, \"#bd3786\"], [0.5555555555555556, \"#d8576b\"], [0.6666666666666666, \"#ed7953\"], [0.7777777777777778, \"#fb9f3a\"], [0.8888888888888888, \"#fdca26\"], [1.0, \"#f0f921\"]], \"type\": \"histogram2d\"}], \"histogram2dcontour\": [{\"colorbar\": {\"outlinewidth\": 0, \"ticks\": \"\"}, \"colorscale\": [[0.0, \"#0d0887\"], [0.1111111111111111, \"#46039f\"], [0.2222222222222222, \"#7201a8\"], [0.3333333333333333, \"#9c179e\"], [0.4444444444444444, \"#bd3786\"], [0.5555555555555556, \"#d8576b\"], [0.6666666666666666, \"#ed7953\"], [0.7777777777777778, \"#fb9f3a\"], [0.8888888888888888, \"#fdca26\"], [1.0, \"#f0f921\"]], \"type\": \"histogram2dcontour\"}], \"mesh3d\": [{\"colorbar\": {\"outlinewidth\": 0, \"ticks\": \"\"}, \"type\": \"mesh3d\"}], \"parcoords\": [{\"line\": {\"colorbar\": {\"outlinewidth\": 0, \"ticks\": \"\"}}, \"type\": \"parcoords\"}], \"pie\": [{\"automargin\": true, \"type\": \"pie\"}], \"scatter\": [{\"marker\": {\"colorbar\": {\"outlinewidth\": 0, \"ticks\": \"\"}}, \"type\": \"scatter\"}], \"scatter3d\": [{\"line\": {\"colorbar\": {\"outlinewidth\": 0, \"ticks\": \"\"}}, \"marker\": {\"colorbar\": {\"outlinewidth\": 0, \"ticks\": \"\"}}, \"type\": \"scatter3d\"}], \"scattercarpet\": [{\"marker\": {\"colorbar\": {\"outlinewidth\": 0, \"ticks\": \"\"}}, \"type\": \"scattercarpet\"}], \"scattergeo\": [{\"marker\": {\"colorbar\": {\"outlinewidth\": 0, \"ticks\": \"\"}}, \"type\": \"scattergeo\"}], \"scattergl\": [{\"marker\": {\"colorbar\": {\"outlinewidth\": 0, \"ticks\": \"\"}}, \"type\": \"scattergl\"}], \"scattermapbox\": [{\"marker\": {\"colorbar\": {\"outlinewidth\": 0, \"ticks\": \"\"}}, \"type\": \"scattermapbox\"}], \"scatterpolar\": [{\"marker\": {\"colorbar\": {\"outlinewidth\": 0, \"ticks\": \"\"}}, \"type\": \"scatterpolar\"}], \"scatterpolargl\": [{\"marker\": {\"colorbar\": {\"outlinewidth\": 0, \"ticks\": \"\"}}, \"type\": \"scatterpolargl\"}], \"scatterternary\": [{\"marker\": {\"colorbar\": {\"outlinewidth\": 0, \"ticks\": \"\"}}, \"type\": \"scatterternary\"}], \"surface\": [{\"colorbar\": {\"outlinewidth\": 0, \"ticks\": \"\"}, \"colorscale\": [[0.0, \"#0d0887\"], [0.1111111111111111, \"#46039f\"], [0.2222222222222222, \"#7201a8\"], [0.3333333333333333, \"#9c179e\"], [0.4444444444444444, \"#bd3786\"], [0.5555555555555556, \"#d8576b\"], [0.6666666666666666, \"#ed7953\"], [0.7777777777777778, \"#fb9f3a\"], [0.8888888888888888, \"#fdca26\"], [1.0, \"#f0f921\"]], \"type\": \"surface\"}], \"table\": [{\"cells\": {\"fill\": {\"color\": \"#EBF0F8\"}, \"line\": {\"color\": \"white\"}}, \"header\": {\"fill\": {\"color\": \"#C8D4E3\"}, \"line\": {\"color\": \"white\"}}, \"type\": \"table\"}]}, \"layout\": {\"annotationdefaults\": {\"arrowcolor\": \"#2a3f5f\", \"arrowhead\": 0, \"arrowwidth\": 1}, \"autotypenumbers\": \"strict\", \"coloraxis\": {\"colorbar\": {\"outlinewidth\": 0, \"ticks\": \"\"}}, \"colorscale\": {\"diverging\": [[0, \"#8e0152\"], [0.1, \"#c51b7d\"], [0.2, \"#de77ae\"], [0.3, \"#f1b6da\"], [0.4, \"#fde0ef\"], [0.5, \"#f7f7f7\"], [0.6, \"#e6f5d0\"], [0.7, \"#b8e186\"], [0.8, \"#7fbc41\"], [0.9, \"#4d9221\"], [1, \"#276419\"]], \"sequential\": [[0.0, \"#0d0887\"], [0.1111111111111111, \"#46039f\"], [0.2222222222222222, \"#7201a8\"], [0.3333333333333333, \"#9c179e\"], [0.4444444444444444, \"#bd3786\"], [0.5555555555555556, \"#d8576b\"], [0.6666666666666666, \"#ed7953\"], [0.7777777777777778, \"#fb9f3a\"], [0.8888888888888888, \"#fdca26\"], [1.0, \"#f0f921\"]], \"sequentialminus\": [[0.0, \"#0d0887\"], [0.1111111111111111, \"#46039f\"], [0.2222222222222222, \"#7201a8\"], [0.3333333333333333, \"#9c179e\"], [0.4444444444444444, \"#bd3786\"], [0.5555555555555556, \"#d8576b\"], [0.6666666666666666, \"#ed7953\"], [0.7777777777777778, \"#fb9f3a\"], [0.8888888888888888, \"#fdca26\"], [1.0, \"#f0f921\"]]}, \"colorway\": [\"#636efa\", \"#EF553B\", \"#00cc96\", \"#ab63fa\", \"#FFA15A\", \"#19d3f3\", \"#FF6692\", \"#B6E880\", \"#FF97FF\", \"#FECB52\"], \"font\": {\"color\": \"#2a3f5f\"}, \"geo\": {\"bgcolor\": \"white\", \"lakecolor\": \"white\", \"landcolor\": \"#E5ECF6\", \"showlakes\": true, \"showland\": true, \"subunitcolor\": \"white\"}, \"hoverlabel\": {\"align\": \"left\"}, \"hovermode\": \"closest\", \"mapbox\": {\"style\": \"light\"}, \"paper_bgcolor\": \"white\", \"plot_bgcolor\": \"#E5ECF6\", \"polar\": {\"angularaxis\": {\"gridcolor\": \"white\", \"linecolor\": \"white\", \"ticks\": \"\"}, \"bgcolor\": \"#E5ECF6\", \"radialaxis\": {\"gridcolor\": \"white\", \"linecolor\": \"white\", \"ticks\": \"\"}}, \"scene\": {\"xaxis\": {\"backgroundcolor\": \"#E5ECF6\", \"gridcolor\": \"white\", \"gridwidth\": 2, \"linecolor\": \"white\", \"showbackground\": true, \"ticks\": \"\", \"zerolinecolor\": \"white\"}, \"yaxis\": {\"backgroundcolor\": \"#E5ECF6\", \"gridcolor\": \"white\", \"gridwidth\": 2, \"linecolor\": \"white\", \"showbackground\": true, \"ticks\": \"\", \"zerolinecolor\": \"white\"}, \"zaxis\": {\"backgroundcolor\": \"#E5ECF6\", \"gridcolor\": \"white\", \"gridwidth\": 2, \"linecolor\": \"white\", \"showbackground\": true, \"ticks\": \"\", \"zerolinecolor\": \"white\"}}, \"shapedefaults\": {\"line\": {\"color\": \"#2a3f5f\"}}, \"ternary\": {\"aaxis\": {\"gridcolor\": \"white\", \"linecolor\": \"white\", \"ticks\": \"\"}, \"baxis\": {\"gridcolor\": \"white\", \"linecolor\": \"white\", \"ticks\": \"\"}, \"bgcolor\": \"#E5ECF6\", \"caxis\": {\"gridcolor\": \"white\", \"linecolor\": \"white\", \"ticks\": \"\"}}, \"title\": {\"x\": 0.05}, \"xaxis\": {\"automargin\": true, \"gridcolor\": \"white\", \"linecolor\": \"white\", \"ticks\": \"\", \"title\": {\"standoff\": 15}, \"zerolinecolor\": \"white\", \"zerolinewidth\": 2}, \"yaxis\": {\"automargin\": true, \"gridcolor\": \"white\", \"linecolor\": \"white\", \"ticks\": \"\", \"title\": {\"standoff\": 15}, \"zerolinecolor\": \"white\", \"zerolinewidth\": 2}}}, \"title\": {\"text\": \"Distribution based on Holidays\"}},                        {\"responsive\": true}                    ).then(function(){\n",
       "                            \n",
       "var gd = document.getElementById('b4150693-68ca-409f-9e5f-95add394629d');\n",
       "var x = new MutationObserver(function (mutations, observer) {{\n",
       "        var display = window.getComputedStyle(gd).display;\n",
       "        if (!display || display === 'none') {{\n",
       "            console.log([gd, 'removed!']);\n",
       "            Plotly.purge(gd);\n",
       "            observer.disconnect();\n",
       "        }}\n",
       "}});\n",
       "\n",
       "// Listen for the removal of the full notebook cells\n",
       "var notebookContainer = gd.closest('#notebook-container');\n",
       "if (notebookContainer) {{\n",
       "    x.observe(notebookContainer, {childList: true});\n",
       "}}\n",
       "\n",
       "// Listen for the clearing of the current output cell\n",
       "var outputEl = gd.closest('.output');\n",
       "if (outputEl) {{\n",
       "    x.observe(outputEl, {childList: true});\n",
       "}}\n",
       "\n",
       "                        })                };                });            </script>        </div>"
      ]
     },
     "metadata": {},
     "output_type": "display_data"
    }
   ],
   "source": [
    "from plotly.offline import iplot\n",
    "df = transaction\n",
    "\n",
    "labels = transaction[\"HOLIDAY\"].value_counts().index\n",
    "pie1 = transaction['HOLIDAY'].value_counts().values\n",
    "# figure\n",
    "fig = {\n",
    "  \"data\": [\n",
    "    {\n",
    "      \"values\": pie1,\n",
    "      \"labels\": labels,\n",
    "      \"domain\": {\"x\": [0, .5]},\n",
    "      \"name\": \"\",\n",
    "      \"hoverinfo\":\"label+percent+name+value\",\n",
    "      \"hole\": .2,\n",
    "      \"type\": \"pie\"\n",
    "    },],\n",
    "  \"layout\": {\n",
    "        \"title\":\"Distribution based on Holidays\",\n",
    "        \"annotations\": [\n",
    "            { \"font\": { \"size\": 25},\n",
    "              \"showarrow\": True,\n",
    "              \"text\": \"Is_Holiday\",\n",
    "                \"x\": 1,\n",
    "                \"y\": 1,\n",
    "            },\n",
    "        ]\n",
    "    }\n",
    "}\n",
    "iplot(fig)"
   ]
  },
  {
   "cell_type": "code",
   "execution_count": 23,
   "metadata": {},
   "outputs": [
    {
     "data": {
      "text/html": [
       "<div>\n",
       "<style scoped>\n",
       "    .dataframe tbody tr th:only-of-type {\n",
       "        vertical-align: middle;\n",
       "    }\n",
       "\n",
       "    .dataframe tbody tr th {\n",
       "        vertical-align: top;\n",
       "    }\n",
       "\n",
       "    .dataframe thead th {\n",
       "        text-align: right;\n",
       "    }\n",
       "</style>\n",
       "<table border=\"1\" class=\"dataframe\">\n",
       "  <thead>\n",
       "    <tr style=\"text-align: right;\">\n",
       "      <th></th>\n",
       "      <th>IS_WEEKEND</th>\n",
       "      <th>QUANTITY</th>\n",
       "    </tr>\n",
       "  </thead>\n",
       "  <tbody>\n",
       "    <tr>\n",
       "      <th>0</th>\n",
       "      <td>0</td>\n",
       "      <td>88.015385</td>\n",
       "    </tr>\n",
       "    <tr>\n",
       "      <th>1</th>\n",
       "      <td>1</td>\n",
       "      <td>62.209524</td>\n",
       "    </tr>\n",
       "  </tbody>\n",
       "</table>\n",
       "</div>"
      ],
      "text/plain": [
       "   IS_WEEKEND   QUANTITY\n",
       "0           0  88.015385\n",
       "1           1  62.209524"
      ]
     },
     "execution_count": 23,
     "metadata": {},
     "output_type": "execute_result"
    }
   ],
   "source": [
    "transaction[[\"IS_WEEKEND\",\"QUANTITY\"]].groupby([\"IS_WEEKEND\"], as_index = False).mean().sort_values(by=\"QUANTITY\",ascending = False)"
   ]
  },
  {
   "cell_type": "code",
   "execution_count": 24,
   "metadata": {},
   "outputs": [
    {
     "data": {
      "image/png": "[encoded data removed]",
      "text/plain": [
       "<Figure size 576x576 with 1 Axes>"
      ]
     },
     "metadata": {},
     "output_type": "display_data"
    }
   ],
   "source": [
    "labels = transaction['IS_WEEKEND'].value_counts().index\n",
    "sizes = transaction['IS_WEEKEND'].value_counts().values\n",
    "\n",
    "plt.figure(figsize = (8,8))\n",
    "plt.pie(sizes, labels=labels, autopct='%1.1f%%')\n",
    "plt.title(\"Distribution of Samples by 'IS_WEEKEND'\",color = 'black',fontsize = 15);"
   ]
  },
  {
   "cell_type": "code",
   "execution_count": 25,
   "metadata": {},
   "outputs": [
    {
     "data": {
      "text/html": [
       "<div>\n",
       "<style scoped>\n",
       "    .dataframe tbody tr th:only-of-type {\n",
       "        vertical-align: middle;\n",
       "    }\n",
       "\n",
       "    .dataframe tbody tr th {\n",
       "        vertical-align: top;\n",
       "    }\n",
       "\n",
       "    .dataframe thead th {\n",
       "        text-align: right;\n",
       "    }\n",
       "</style>\n",
       "<table border=\"1\" class=\"dataframe\">\n",
       "  <thead>\n",
       "    <tr style=\"text-align: right;\">\n",
       "      <th></th>\n",
       "      <th>IS_OUTDOOR</th>\n",
       "      <th>QUANTITY</th>\n",
       "    </tr>\n",
       "  </thead>\n",
       "  <tbody>\n",
       "    <tr>\n",
       "      <th>0</th>\n",
       "      <td>0</td>\n",
       "      <td>93.450000</td>\n",
       "    </tr>\n",
       "    <tr>\n",
       "      <th>1</th>\n",
       "      <td>1</td>\n",
       "      <td>79.009231</td>\n",
       "    </tr>\n",
       "  </tbody>\n",
       "</table>\n",
       "</div>"
      ],
      "text/plain": [
       "   IS_OUTDOOR   QUANTITY\n",
       "0           0  93.450000\n",
       "1           1  79.009231"
      ]
     },
     "execution_count": 25,
     "metadata": {},
     "output_type": "execute_result"
    }
   ],
   "source": [
    "transaction[[\"IS_OUTDOOR\",\"QUANTITY\"]].groupby([\"IS_OUTDOOR\"], as_index = False).mean().sort_values(by=\"QUANTITY\",ascending = False)"
   ]
  },
  {
   "cell_type": "code",
   "execution_count": 26,
   "metadata": {},
   "outputs": [
    {
     "data": {
      "image/png": "[encoded data removed]",
      "text/plain": [
       "<Figure size 576x576 with 1 Axes>"
      ]
     },
     "metadata": {},
     "output_type": "display_data"
    }
   ],
   "source": [
    "labels = transaction['IS_OUTDOOR'].value_counts().index\n",
    "sizes = transaction['IS_OUTDOOR'].value_counts().values\n",
    "\n",
    "plt.figure(figsize = (8,8))\n",
    "plt.pie(sizes, labels=labels, autopct='%1.1f%%')\n",
    "plt.title(\"Distribution of Samples by 'IS_OUTDOOR'\",color = 'black',fontsize = 15);"
   ]
  },
  {
   "cell_type": "code",
   "execution_count": 27,
   "metadata": {
    "scrolled": true
   },
   "outputs": [
    {
     "data": {
      "text/html": [
       "<div>\n",
       "<style scoped>\n",
       "    .dataframe tbody tr th:only-of-type {\n",
       "        vertical-align: middle;\n",
       "    }\n",
       "\n",
       "    .dataframe tbody tr th {\n",
       "        vertical-align: top;\n",
       "    }\n",
       "\n",
       "    .dataframe thead th {\n",
       "        text-align: right;\n",
       "    }\n",
       "</style>\n",
       "<table border=\"1\" class=\"dataframe\">\n",
       "  <thead>\n",
       "    <tr style=\"text-align: right;\">\n",
       "      <th></th>\n",
       "      <th>AVERAGE_TEMPERATURE</th>\n",
       "      <th>QUANTITY</th>\n",
       "    </tr>\n",
       "  </thead>\n",
       "  <tbody>\n",
       "    <tr>\n",
       "      <th>0</th>\n",
       "      <td>21.2</td>\n",
       "      <td>104.000000</td>\n",
       "    </tr>\n",
       "    <tr>\n",
       "      <th>1</th>\n",
       "      <td>23.0</td>\n",
       "      <td>97.333333</td>\n",
       "    </tr>\n",
       "    <tr>\n",
       "      <th>5</th>\n",
       "      <td>30.2</td>\n",
       "      <td>94.545455</td>\n",
       "    </tr>\n",
       "    <tr>\n",
       "      <th>36</th>\n",
       "      <td>86.0</td>\n",
       "      <td>91.000000</td>\n",
       "    </tr>\n",
       "    <tr>\n",
       "      <th>4</th>\n",
       "      <td>28.4</td>\n",
       "      <td>90.000000</td>\n",
       "    </tr>\n",
       "    <tr>\n",
       "      <th>10</th>\n",
       "      <td>39.2</td>\n",
       "      <td>87.555556</td>\n",
       "    </tr>\n",
       "    <tr>\n",
       "      <th>2</th>\n",
       "      <td>24.8</td>\n",
       "      <td>85.538462</td>\n",
       "    </tr>\n",
       "    <tr>\n",
       "      <th>14</th>\n",
       "      <td>46.4</td>\n",
       "      <td>84.500000</td>\n",
       "    </tr>\n",
       "    <tr>\n",
       "      <th>31</th>\n",
       "      <td>77.0</td>\n",
       "      <td>84.400000</td>\n",
       "    </tr>\n",
       "    <tr>\n",
       "      <th>28</th>\n",
       "      <td>71.6</td>\n",
       "      <td>83.777778</td>\n",
       "    </tr>\n",
       "    <tr>\n",
       "      <th>27</th>\n",
       "      <td>69.8</td>\n",
       "      <td>82.909091</td>\n",
       "    </tr>\n",
       "    <tr>\n",
       "      <th>34</th>\n",
       "      <td>82.4</td>\n",
       "      <td>82.705882</td>\n",
       "    </tr>\n",
       "    <tr>\n",
       "      <th>25</th>\n",
       "      <td>66.2</td>\n",
       "      <td>82.571429</td>\n",
       "    </tr>\n",
       "    <tr>\n",
       "      <th>7</th>\n",
       "      <td>33.8</td>\n",
       "      <td>82.333333</td>\n",
       "    </tr>\n",
       "    <tr>\n",
       "      <th>19</th>\n",
       "      <td>55.4</td>\n",
       "      <td>81.600000</td>\n",
       "    </tr>\n",
       "    <tr>\n",
       "      <th>3</th>\n",
       "      <td>26.6</td>\n",
       "      <td>81.500000</td>\n",
       "    </tr>\n",
       "    <tr>\n",
       "      <th>35</th>\n",
       "      <td>84.2</td>\n",
       "      <td>81.111111</td>\n",
       "    </tr>\n",
       "    <tr>\n",
       "      <th>33</th>\n",
       "      <td>80.6</td>\n",
       "      <td>81.000000</td>\n",
       "    </tr>\n",
       "    <tr>\n",
       "      <th>30</th>\n",
       "      <td>75.2</td>\n",
       "      <td>80.923077</td>\n",
       "    </tr>\n",
       "    <tr>\n",
       "      <th>9</th>\n",
       "      <td>37.4</td>\n",
       "      <td>80.666667</td>\n",
       "    </tr>\n",
       "    <tr>\n",
       "      <th>8</th>\n",
       "      <td>35.6</td>\n",
       "      <td>79.600000</td>\n",
       "    </tr>\n",
       "    <tr>\n",
       "      <th>32</th>\n",
       "      <td>78.8</td>\n",
       "      <td>79.428571</td>\n",
       "    </tr>\n",
       "    <tr>\n",
       "      <th>18</th>\n",
       "      <td>53.6</td>\n",
       "      <td>79.333333</td>\n",
       "    </tr>\n",
       "    <tr>\n",
       "      <th>21</th>\n",
       "      <td>59.0</td>\n",
       "      <td>78.666667</td>\n",
       "    </tr>\n",
       "    <tr>\n",
       "      <th>12</th>\n",
       "      <td>42.8</td>\n",
       "      <td>78.333333</td>\n",
       "    </tr>\n",
       "    <tr>\n",
       "      <th>22</th>\n",
       "      <td>60.8</td>\n",
       "      <td>77.272727</td>\n",
       "    </tr>\n",
       "    <tr>\n",
       "      <th>16</th>\n",
       "      <td>50.0</td>\n",
       "      <td>77.200000</td>\n",
       "    </tr>\n",
       "    <tr>\n",
       "      <th>11</th>\n",
       "      <td>41.0</td>\n",
       "      <td>76.800000</td>\n",
       "    </tr>\n",
       "    <tr>\n",
       "      <th>15</th>\n",
       "      <td>48.2</td>\n",
       "      <td>76.500000</td>\n",
       "    </tr>\n",
       "    <tr>\n",
       "      <th>13</th>\n",
       "      <td>44.6</td>\n",
       "      <td>76.500000</td>\n",
       "    </tr>\n",
       "    <tr>\n",
       "      <th>6</th>\n",
       "      <td>32.0</td>\n",
       "      <td>75.612903</td>\n",
       "    </tr>\n",
       "    <tr>\n",
       "      <th>17</th>\n",
       "      <td>51.8</td>\n",
       "      <td>75.000000</td>\n",
       "    </tr>\n",
       "    <tr>\n",
       "      <th>29</th>\n",
       "      <td>73.4</td>\n",
       "      <td>74.888889</td>\n",
       "    </tr>\n",
       "    <tr>\n",
       "      <th>23</th>\n",
       "      <td>62.6</td>\n",
       "      <td>74.545455</td>\n",
       "    </tr>\n",
       "    <tr>\n",
       "      <th>20</th>\n",
       "      <td>57.2</td>\n",
       "      <td>74.153846</td>\n",
       "    </tr>\n",
       "    <tr>\n",
       "      <th>26</th>\n",
       "      <td>68.0</td>\n",
       "      <td>69.250000</td>\n",
       "    </tr>\n",
       "    <tr>\n",
       "      <th>24</th>\n",
       "      <td>64.4</td>\n",
       "      <td>59.333333</td>\n",
       "    </tr>\n",
       "  </tbody>\n",
       "</table>\n",
       "</div>"
      ],
      "text/plain": [
       "    AVERAGE_TEMPERATURE    QUANTITY\n",
       "0                  21.2  104.000000\n",
       "1                  23.0   97.333333\n",
       "5                  30.2   94.545455\n",
       "36                 86.0   91.000000\n",
       "4                  28.4   90.000000\n",
       "10                 39.2   87.555556\n",
       "2                  24.8   85.538462\n",
       "14                 46.4   84.500000\n",
       "31                 77.0   84.400000\n",
       "28                 71.6   83.777778\n",
       "27                 69.8   82.909091\n",
       "34                 82.4   82.705882\n",
       "25                 66.2   82.571429\n",
       "7                  33.8   82.333333\n",
       "19                 55.4   81.600000\n",
       "3                  26.6   81.500000\n",
       "35                 84.2   81.111111\n",
       "33                 80.6   81.000000\n",
       "30                 75.2   80.923077\n",
       "9                  37.4   80.666667\n",
       "8                  35.6   79.600000\n",
       "32                 78.8   79.428571\n",
       "18                 53.6   79.333333\n",
       "21                 59.0   78.666667\n",
       "12                 42.8   78.333333\n",
       "22                 60.8   77.272727\n",
       "16                 50.0   77.200000\n",
       "11                 41.0   76.800000\n",
       "15                 48.2   76.500000\n",
       "13                 44.6   76.500000\n",
       "6                  32.0   75.612903\n",
       "17                 51.8   75.000000\n",
       "29                 73.4   74.888889\n",
       "23                 62.6   74.545455\n",
       "20                 57.2   74.153846\n",
       "26                 68.0   69.250000\n",
       "24                 64.4   59.333333"
      ]
     },
     "execution_count": 27,
     "metadata": {},
     "output_type": "execute_result"
    }
   ],
   "source": [
    "transaction[[\"AVERAGE_TEMPERATURE\",\"QUANTITY\"]].groupby([\"AVERAGE_TEMPERATURE\"], as_index = False).mean().sort_values(by=\"QUANTITY\",ascending = False)"
   ]
  },
  {
   "cell_type": "code",
   "execution_count": 28,
   "metadata": {
    "scrolled": true
   },
   "outputs": [
    {
     "data": {
      "image/png": "[encoded data removed]",
      "text/plain": [
       "<Figure size 576x576 with 1 Axes>"
      ]
     },
     "metadata": {},
     "output_type": "display_data"
    }
   ],
   "source": [
    "labels = transaction['AVERAGE_TEMPERATURE'].value_counts().index\n",
    "sizes = transaction['AVERAGE_TEMPERATURE'].value_counts().values\n",
    "\n",
    "plt.figure(figsize = (8,8))\n",
    "plt.bar(labels, height=sizes,  align='edge', width=1)\n",
    "plt.title(\"Distribution of Samples by 'AVERAGE_TEMPERATURE'\",color = 'black',fontsize = 15);"
   ]
  },
  {
   "cell_type": "markdown",
   "metadata": {},
   "source": [
    "# Pandas Profiling"
   ]
  },
  {
   "cell_type": "code",
   "execution_count": 29,
   "metadata": {},
   "outputs": [],
   "source": [
    "# import pandas_profiling as pp\n",
    "# pp.ProfileReport(transaction)"
   ]
  },
  {
   "cell_type": "markdown",
   "metadata": {},
   "source": [
    "# Missing Values"
   ]
  },
  {
   "cell_type": "code",
   "execution_count": 30,
   "metadata": {},
   "outputs": [
    {
     "data": {
      "text/html": [
       "<div>\n",
       "<style scoped>\n",
       "    .dataframe tbody tr th:only-of-type {\n",
       "        vertical-align: middle;\n",
       "    }\n",
       "\n",
       "    .dataframe tbody tr th {\n",
       "        vertical-align: top;\n",
       "    }\n",
       "\n",
       "    .dataframe thead th {\n",
       "        text-align: right;\n",
       "    }\n",
       "</style>\n",
       "<table border=\"1\" class=\"dataframe\">\n",
       "  <thead>\n",
       "    <tr style=\"text-align: right;\">\n",
       "      <th></th>\n",
       "      <th>CALENDAR_DATE</th>\n",
       "      <th>QUANTITY</th>\n",
       "      <th>SELL_ID</th>\n",
       "      <th>YEAR</th>\n",
       "      <th>DATE</th>\n",
       "      <th>HOLIDAY</th>\n",
       "      <th>IS_WEEKEND</th>\n",
       "      <th>IS_OUTDOOR</th>\n",
       "      <th>AVERAGE_TEMPERATURE</th>\n",
       "    </tr>\n",
       "  </thead>\n",
       "  <tbody>\n",
       "    <tr>\n",
       "      <th>3</th>\n",
       "      <td>01/04/12</td>\n",
       "      <td>88</td>\n",
       "      <td>1070</td>\n",
       "      <td>2012</td>\n",
       "      <td>4</td>\n",
       "      <td>NaN</td>\n",
       "      <td>0</td>\n",
       "      <td>1</td>\n",
       "      <td>32.0</td>\n",
       "    </tr>\n",
       "    <tr>\n",
       "      <th>4</th>\n",
       "      <td>01/05/12</td>\n",
       "      <td>104</td>\n",
       "      <td>1070</td>\n",
       "      <td>2012</td>\n",
       "      <td>5</td>\n",
       "      <td>NaN</td>\n",
       "      <td>0</td>\n",
       "      <td>0</td>\n",
       "      <td>24.8</td>\n",
       "    </tr>\n",
       "    <tr>\n",
       "      <th>5</th>\n",
       "      <td>01/06/12</td>\n",
       "      <td>100</td>\n",
       "      <td>1070</td>\n",
       "      <td>2012</td>\n",
       "      <td>6</td>\n",
       "      <td>NaN</td>\n",
       "      <td>0</td>\n",
       "      <td>0</td>\n",
       "      <td>23.0</td>\n",
       "    </tr>\n",
       "    <tr>\n",
       "      <th>6</th>\n",
       "      <td>01/07/12</td>\n",
       "      <td>70</td>\n",
       "      <td>1070</td>\n",
       "      <td>2012</td>\n",
       "      <td>7</td>\n",
       "      <td>NaN</td>\n",
       "      <td>1</td>\n",
       "      <td>0</td>\n",
       "      <td>26.6</td>\n",
       "    </tr>\n",
       "    <tr>\n",
       "      <th>7</th>\n",
       "      <td>01/08/12</td>\n",
       "      <td>70</td>\n",
       "      <td>1070</td>\n",
       "      <td>2012</td>\n",
       "      <td>8</td>\n",
       "      <td>NaN</td>\n",
       "      <td>1</td>\n",
       "      <td>0</td>\n",
       "      <td>26.6</td>\n",
       "    </tr>\n",
       "    <tr>\n",
       "      <th>...</th>\n",
       "      <td>...</td>\n",
       "      <td>...</td>\n",
       "      <td>...</td>\n",
       "      <td>...</td>\n",
       "      <td>...</td>\n",
       "      <td>...</td>\n",
       "      <td>...</td>\n",
       "      <td>...</td>\n",
       "      <td>...</td>\n",
       "    </tr>\n",
       "    <tr>\n",
       "      <th>360</th>\n",
       "      <td>12/27/12</td>\n",
       "      <td>88</td>\n",
       "      <td>1070</td>\n",
       "      <td>2012</td>\n",
       "      <td>27</td>\n",
       "      <td>NaN</td>\n",
       "      <td>0</td>\n",
       "      <td>1</td>\n",
       "      <td>30.2</td>\n",
       "    </tr>\n",
       "    <tr>\n",
       "      <th>361</th>\n",
       "      <td>12/28/12</td>\n",
       "      <td>108</td>\n",
       "      <td>1070</td>\n",
       "      <td>2012</td>\n",
       "      <td>28</td>\n",
       "      <td>NaN</td>\n",
       "      <td>0</td>\n",
       "      <td>0</td>\n",
       "      <td>30.2</td>\n",
       "    </tr>\n",
       "    <tr>\n",
       "      <th>362</th>\n",
       "      <td>12/29/12</td>\n",
       "      <td>58</td>\n",
       "      <td>1070</td>\n",
       "      <td>2012</td>\n",
       "      <td>29</td>\n",
       "      <td>NaN</td>\n",
       "      <td>1</td>\n",
       "      <td>1</td>\n",
       "      <td>26.6</td>\n",
       "    </tr>\n",
       "    <tr>\n",
       "      <th>363</th>\n",
       "      <td>12/30/12</td>\n",
       "      <td>62</td>\n",
       "      <td>1070</td>\n",
       "      <td>2012</td>\n",
       "      <td>30</td>\n",
       "      <td>NaN</td>\n",
       "      <td>1</td>\n",
       "      <td>1</td>\n",
       "      <td>28.4</td>\n",
       "    </tr>\n",
       "    <tr>\n",
       "      <th>364</th>\n",
       "      <td>12/31/12</td>\n",
       "      <td>102</td>\n",
       "      <td>1070</td>\n",
       "      <td>2012</td>\n",
       "      <td>31</td>\n",
       "      <td>NaN</td>\n",
       "      <td>0</td>\n",
       "      <td>0</td>\n",
       "      <td>30.2</td>\n",
       "    </tr>\n",
       "  </tbody>\n",
       "</table>\n",
       "<p>336 rows × 9 columns</p>\n",
       "</div>"
      ],
      "text/plain": [
       "    CALENDAR_DATE  QUANTITY  SELL_ID  YEAR  DATE HOLIDAY  IS_WEEKEND  \\\n",
       "3        01/04/12        88     1070  2012     4     NaN           0   \n",
       "4        01/05/12       104     1070  2012     5     NaN           0   \n",
       "5        01/06/12       100     1070  2012     6     NaN           0   \n",
       "6        01/07/12        70     1070  2012     7     NaN           1   \n",
       "7        01/08/12        70     1070  2012     8     NaN           1   \n",
       "..            ...       ...      ...   ...   ...     ...         ...   \n",
       "360      12/27/12        88     1070  2012    27     NaN           0   \n",
       "361      12/28/12       108     1070  2012    28     NaN           0   \n",
       "362      12/29/12        58     1070  2012    29     NaN           1   \n",
       "363      12/30/12        62     1070  2012    30     NaN           1   \n",
       "364      12/31/12       102     1070  2012    31     NaN           0   \n",
       "\n",
       "     IS_OUTDOOR  AVERAGE_TEMPERATURE  \n",
       "3             1                 32.0  \n",
       "4             0                 24.8  \n",
       "5             0                 23.0  \n",
       "6             0                 26.6  \n",
       "7             0                 26.6  \n",
       "..          ...                  ...  \n",
       "360           1                 30.2  \n",
       "361           0                 30.2  \n",
       "362           1                 26.6  \n",
       "363           1                 28.4  \n",
       "364           0                 30.2  \n",
       "\n",
       "[336 rows x 9 columns]"
      ]
     },
     "execution_count": 30,
     "metadata": {},
     "output_type": "execute_result"
    }
   ],
   "source": [
    "transaction[transaction['HOLIDAY'].isnull()]"
   ]
  },
  {
   "cell_type": "code",
   "execution_count": 31,
   "metadata": {},
   "outputs": [],
   "source": [
    "transaction['HOLIDAY'] = transaction['HOLIDAY'].fillna(0)"
   ]
  },
  {
   "cell_type": "markdown",
   "metadata": {},
   "source": [
    "# Encoding"
   ]
  },
  {
   "cell_type": "code",
   "execution_count": 32,
   "metadata": {},
   "outputs": [
    {
     "name": "stdout",
     "output_type": "stream",
     "text": [
      "Unique Values for HOLIDAY ['New Year' 0 'Luner New Year' 'Qing Ming Festival' 'Labor Day'\n",
      " 'Dragon Boat Festivel' 'Mid-Autumn Day' 'National Day']\n",
      "Unique Values for IS_WEEKEND [1 0]\n",
      "Unique Values for IS_OUTDOOR [0 1]\n",
      "Unique Values for AVERAGE_TEMPERATURE [24.8 32.  23.  26.6 21.2 28.4 37.4 39.2 42.8 30.2 33.8 35.6 41.  44.6\n",
      " 46.4 50.  55.4 48.2 51.8 57.2 53.6 60.8 62.6 66.2 69.8 64.4 68.  59.\n",
      " 71.6 75.2 73.4 80.6 77.  82.4 78.8 84.2 86. ]\n"
     ]
    }
   ],
   "source": [
    "print(\"Unique Values for HOLIDAY\", transaction['HOLIDAY'].unique())\n",
    "print(\"Unique Values for IS_WEEKEND\", transaction['IS_WEEKEND'].unique())\n",
    "print(\"Unique Values for IS_OUTDOOR\", transaction['IS_OUTDOOR'].unique())\n",
    "print(\"Unique Values for AVERAGE_TEMPERATURE\", transaction['AVERAGE_TEMPERATURE'].unique())"
   ]
  },
  {
   "cell_type": "code",
   "execution_count": 33,
   "metadata": {},
   "outputs": [],
   "source": [
    "transaction = transaction.replace(['New Year', 'Luner New Year', 'Qing Ming Festival', 'Labor Day', 'Dragon Boat Festivel','Mid-Autumn Day', 'National Day'], 1)"
   ]
  },
  {
   "cell_type": "code",
   "execution_count": 34,
   "metadata": {},
   "outputs": [
    {
     "data": {
      "text/html": [
       "<div>\n",
       "<style scoped>\n",
       "    .dataframe tbody tr th:only-of-type {\n",
       "        vertical-align: middle;\n",
       "    }\n",
       "\n",
       "    .dataframe tbody tr th {\n",
       "        vertical-align: top;\n",
       "    }\n",
       "\n",
       "    .dataframe thead th {\n",
       "        text-align: right;\n",
       "    }\n",
       "</style>\n",
       "<table border=\"1\" class=\"dataframe\">\n",
       "  <thead>\n",
       "    <tr style=\"text-align: right;\">\n",
       "      <th></th>\n",
       "      <th>CALENDAR_DATE</th>\n",
       "      <th>QUANTITY</th>\n",
       "      <th>SELL_ID</th>\n",
       "      <th>YEAR</th>\n",
       "      <th>DATE</th>\n",
       "      <th>HOLIDAY</th>\n",
       "      <th>IS_WEEKEND</th>\n",
       "      <th>IS_OUTDOOR</th>\n",
       "      <th>AVERAGE_TEMPERATURE</th>\n",
       "    </tr>\n",
       "  </thead>\n",
       "  <tbody>\n",
       "    <tr>\n",
       "      <th>0</th>\n",
       "      <td>01/01/12</td>\n",
       "      <td>46</td>\n",
       "      <td>1070</td>\n",
       "      <td>2012</td>\n",
       "      <td>1</td>\n",
       "      <td>1</td>\n",
       "      <td>1</td>\n",
       "      <td>0</td>\n",
       "      <td>24.8</td>\n",
       "    </tr>\n",
       "    <tr>\n",
       "      <th>1</th>\n",
       "      <td>01/02/12</td>\n",
       "      <td>70</td>\n",
       "      <td>1070</td>\n",
       "      <td>2012</td>\n",
       "      <td>2</td>\n",
       "      <td>1</td>\n",
       "      <td>0</td>\n",
       "      <td>0</td>\n",
       "      <td>24.8</td>\n",
       "    </tr>\n",
       "    <tr>\n",
       "      <th>2</th>\n",
       "      <td>01/03/12</td>\n",
       "      <td>62</td>\n",
       "      <td>1070</td>\n",
       "      <td>2012</td>\n",
       "      <td>3</td>\n",
       "      <td>1</td>\n",
       "      <td>0</td>\n",
       "      <td>1</td>\n",
       "      <td>32.0</td>\n",
       "    </tr>\n",
       "    <tr>\n",
       "      <th>3</th>\n",
       "      <td>01/04/12</td>\n",
       "      <td>88</td>\n",
       "      <td>1070</td>\n",
       "      <td>2012</td>\n",
       "      <td>4</td>\n",
       "      <td>0</td>\n",
       "      <td>0</td>\n",
       "      <td>1</td>\n",
       "      <td>32.0</td>\n",
       "    </tr>\n",
       "    <tr>\n",
       "      <th>4</th>\n",
       "      <td>01/05/12</td>\n",
       "      <td>104</td>\n",
       "      <td>1070</td>\n",
       "      <td>2012</td>\n",
       "      <td>5</td>\n",
       "      <td>0</td>\n",
       "      <td>0</td>\n",
       "      <td>0</td>\n",
       "      <td>24.8</td>\n",
       "    </tr>\n",
       "    <tr>\n",
       "      <th>...</th>\n",
       "      <td>...</td>\n",
       "      <td>...</td>\n",
       "      <td>...</td>\n",
       "      <td>...</td>\n",
       "      <td>...</td>\n",
       "      <td>...</td>\n",
       "      <td>...</td>\n",
       "      <td>...</td>\n",
       "      <td>...</td>\n",
       "    </tr>\n",
       "    <tr>\n",
       "      <th>360</th>\n",
       "      <td>12/27/12</td>\n",
       "      <td>88</td>\n",
       "      <td>1070</td>\n",
       "      <td>2012</td>\n",
       "      <td>27</td>\n",
       "      <td>0</td>\n",
       "      <td>0</td>\n",
       "      <td>1</td>\n",
       "      <td>30.2</td>\n",
       "    </tr>\n",
       "    <tr>\n",
       "      <th>361</th>\n",
       "      <td>12/28/12</td>\n",
       "      <td>108</td>\n",
       "      <td>1070</td>\n",
       "      <td>2012</td>\n",
       "      <td>28</td>\n",
       "      <td>0</td>\n",
       "      <td>0</td>\n",
       "      <td>0</td>\n",
       "      <td>30.2</td>\n",
       "    </tr>\n",
       "    <tr>\n",
       "      <th>362</th>\n",
       "      <td>12/29/12</td>\n",
       "      <td>58</td>\n",
       "      <td>1070</td>\n",
       "      <td>2012</td>\n",
       "      <td>29</td>\n",
       "      <td>0</td>\n",
       "      <td>1</td>\n",
       "      <td>1</td>\n",
       "      <td>26.6</td>\n",
       "    </tr>\n",
       "    <tr>\n",
       "      <th>363</th>\n",
       "      <td>12/30/12</td>\n",
       "      <td>62</td>\n",
       "      <td>1070</td>\n",
       "      <td>2012</td>\n",
       "      <td>30</td>\n",
       "      <td>0</td>\n",
       "      <td>1</td>\n",
       "      <td>1</td>\n",
       "      <td>28.4</td>\n",
       "    </tr>\n",
       "    <tr>\n",
       "      <th>364</th>\n",
       "      <td>12/31/12</td>\n",
       "      <td>102</td>\n",
       "      <td>1070</td>\n",
       "      <td>2012</td>\n",
       "      <td>31</td>\n",
       "      <td>0</td>\n",
       "      <td>0</td>\n",
       "      <td>0</td>\n",
       "      <td>30.2</td>\n",
       "    </tr>\n",
       "  </tbody>\n",
       "</table>\n",
       "<p>365 rows × 9 columns</p>\n",
       "</div>"
      ],
      "text/plain": [
       "    CALENDAR_DATE  QUANTITY  SELL_ID  YEAR  DATE  HOLIDAY  IS_WEEKEND  \\\n",
       "0        01/01/12        46     1070  2012     1        1           1   \n",
       "1        01/02/12        70     1070  2012     2        1           0   \n",
       "2        01/03/12        62     1070  2012     3        1           0   \n",
       "3        01/04/12        88     1070  2012     4        0           0   \n",
       "4        01/05/12       104     1070  2012     5        0           0   \n",
       "..            ...       ...      ...   ...   ...      ...         ...   \n",
       "360      12/27/12        88     1070  2012    27        0           0   \n",
       "361      12/28/12       108     1070  2012    28        0           0   \n",
       "362      12/29/12        58     1070  2012    29        0           1   \n",
       "363      12/30/12        62     1070  2012    30        0           1   \n",
       "364      12/31/12       102     1070  2012    31        0           0   \n",
       "\n",
       "     IS_OUTDOOR  AVERAGE_TEMPERATURE  \n",
       "0             0                 24.8  \n",
       "1             0                 24.8  \n",
       "2             1                 32.0  \n",
       "3             1                 32.0  \n",
       "4             0                 24.8  \n",
       "..          ...                  ...  \n",
       "360           1                 30.2  \n",
       "361           0                 30.2  \n",
       "362           1                 26.6  \n",
       "363           1                 28.4  \n",
       "364           0                 30.2  \n",
       "\n",
       "[365 rows x 9 columns]"
      ]
     },
     "execution_count": 34,
     "metadata": {},
     "output_type": "execute_result"
    }
   ],
   "source": [
    "transaction"
   ]
  },
  {
   "cell_type": "markdown",
   "metadata": {},
   "source": [
    "# Train-Test-Split"
   ]
  },
  {
   "cell_type": "code",
   "execution_count": 35,
   "metadata": {},
   "outputs": [],
   "source": [
    "features = ['YEAR', 'DATE', 'HOLIDAY','IS_WEEKEND', 'AVERAGE_TEMPERATURE']\n",
    "label = ['QUANTITY']\n",
    "\n",
    "X = transaction[features]\n",
    "y = transaction[label]"
   ]
  },
  {
   "cell_type": "code",
   "execution_count": 36,
   "metadata": {
    "scrolled": true
   },
   "outputs": [],
   "source": [
    "X_train, X_test, y_train, y_test = train_test_split(X, y, test_size=0.2, random_state=0) \n",
    "\n",
    "X_valid, X_test, y_valid, y_test = train_test_split(X_test, y_test, test_size=0.2, random_state=0)\n",
    "\n",
    "# print(f'Total # of sample in whole dataset: {len(X)}')\n",
    "# print(f'Total # of sample in train dataset: {len(X_train)}')\n",
    "# print(f'Total # of sample in validation dataset: {len(X_valid)}')\n",
    "# print(f'Total # of sample in test dataset: {len(X_test)}')"
   ]
  },
  {
   "cell_type": "markdown",
   "metadata": {},
   "source": [
    "<!--  -->"
   ]
  },
  {
   "cell_type": "code",
   "execution_count": 37,
   "metadata": {},
   "outputs": [
    {
     "name": "stdout",
     "output_type": "stream",
     "text": [
      "GaussianNB validation score => 22.413793103448278\n",
      "GaussianNB\n",
      "Train score of trained model: 33.9041095890411\n",
      "Validation score of trained model: 22.413793103448278\n",
      "Test score of trained model: 26.666666666666668\n",
      " \n",
      "Confussion Matrix: \n",
      "[[0 0 0 0 0 0 0 0]\n",
      " [1 1 0 0 0 0 0 0]\n",
      " [1 0 1 0 0 0 0 0]\n",
      " [0 0 0 0 0 0 0 0]\n",
      " [0 0 0 0 0 0 0 0]\n",
      " [0 0 0 0 0 0 1 0]\n",
      " [0 0 0 0 0 0 0 0]\n",
      " [0 0 0 2 2 1 3 2]]\n",
      "\n",
      "Accuracy : 0.5\n",
      "Precision: 1.0\n",
      "Recall   : 0.5\n",
      "F1 score : 0.6666666666666666\n",
      "Specificity : nan\n",
      "\n",
      "Classification Report: \n",
      "              precision    recall  f1-score   support\n",
      "\n",
      "          56       0.00      0.00      0.00         0\n",
      "          62       1.00      0.50      0.67         2\n",
      "          64       1.00      0.50      0.67         2\n",
      "          82       0.00      0.00      0.00         0\n",
      "          84       0.00      0.00      0.00         0\n",
      "          86       0.00      0.00      0.00         1\n",
      "          88       0.00      0.00      0.00         0\n",
      "          90       1.00      0.20      0.33        10\n",
      "\n",
      "    accuracy                           0.27        15\n",
      "   macro avg       0.38      0.15      0.21        15\n",
      "weighted avg       0.93      0.27      0.40        15\n",
      "\n",
      "\n",
      "\n",
      "############################################################################\n",
      "\n",
      "\n",
      "\n",
      "BernoulliNB validation score => 24.137931034482758\n",
      "BernoulliNB\n",
      "Train score of trained model: 23.972602739726025\n",
      "Validation score of trained model: 24.137931034482758\n",
      "Test score of trained model: 20.0\n",
      " \n",
      "Confussion Matrix: \n",
      "[[0 0 0 0 0 0 0 0]\n",
      " [1 0 0 0 0 0 0 0]\n",
      " [1 1 1 0 0 0 0 0]\n",
      " [0 0 0 0 0 0 0 0]\n",
      " [0 0 0 0 0 0 0 0]\n",
      " [0 0 0 0 0 0 0 0]\n",
      " [0 0 0 0 0 0 0 0]\n",
      " [0 0 0 2 2 1 4 2]]\n",
      "\n",
      "Accuracy : 0.0\n",
      "Precision: nan\n",
      "Recall   : 0.0\n",
      "F1 score : nan\n",
      "Specificity : nan\n",
      "\n",
      "Classification Report: \n",
      "              precision    recall  f1-score   support\n",
      "\n",
      "          56       0.00      0.00      0.00         0\n",
      "          62       0.00      0.00      0.00         1\n",
      "          64       1.00      0.33      0.50         3\n",
      "          82       0.00      0.00      0.00         0\n",
      "          84       0.00      0.00      0.00         0\n",
      "          86       0.00      0.00      0.00         0\n",
      "          88       0.00      0.00      0.00         0\n",
      "          90       1.00      0.18      0.31        11\n",
      "\n",
      "    accuracy                           0.20        15\n",
      "   macro avg       0.25      0.06      0.10        15\n",
      "weighted avg       0.93      0.20      0.33        15\n",
      "\n",
      "\n",
      "\n",
      "############################################################################\n",
      "\n",
      "\n",
      "\n",
      "LogisticRegression validation score => 18.96551724137931\n",
      "LogisticRegression\n",
      "Train score of trained model: 15.753424657534246\n",
      "Validation score of trained model: 18.96551724137931\n",
      "Test score of trained model: 13.333333333333334\n",
      " \n",
      "Confussion Matrix: \n",
      "[[0 0 0 0 0 0 0 0]\n",
      " [0 0 0 0 0 0 0 0]\n",
      " [0 0 0 0 0 1 0 0]\n",
      " [0 0 0 0 0 0 0 0]\n",
      " [0 0 0 0 0 0 0 0]\n",
      " [2 0 0 0 2 0 1 0]\n",
      " [0 0 0 0 0 0 0 0]\n",
      " [0 1 1 2 0 0 3 2]]\n",
      "\n",
      "Accuracy : nan\n",
      "Precision: nan\n",
      "Recall   : nan\n",
      "F1 score : nan\n",
      "Specificity : nan\n",
      "\n",
      "Classification Report: \n",
      "              precision    recall  f1-score   support\n",
      "\n",
      "          56       0.00      0.00      0.00         0\n",
      "          62       0.00      0.00      0.00         0\n",
      "          64       0.00      0.00      0.00         1\n",
      "          82       0.00      0.00      0.00         0\n",
      "          84       0.00      0.00      0.00         0\n",
      "          86       0.00      0.00      0.00         5\n",
      "          88       0.00      0.00      0.00         0\n",
      "          90       1.00      0.22      0.36         9\n",
      "\n",
      "    accuracy                           0.13        15\n",
      "   macro avg       0.12      0.03      0.05        15\n",
      "weighted avg       0.60      0.13      0.22        15\n",
      "\n",
      "\n",
      "\n",
      "############################################################################\n",
      "\n",
      "\n",
      "\n",
      "RandomForestClassifier validation score => 24.137931034482758\n",
      "RandomForestClassifier\n",
      "Train score of trained model: 95.54794520547945\n",
      "Validation score of trained model: 24.137931034482758\n",
      "Test score of trained model: 13.333333333333334\n",
      " \n",
      "Confussion Matrix: \n",
      "[[1 0 0 0 0 0 0 0 0 0 0]\n",
      " [1 0 0 0 0 0 0 0 0 0 0]\n",
      " [0 0 0 1 0 0 0 0 0 0 0]\n",
      " [0 0 0 0 0 0 0 0 0 0 0]\n",
      " [0 0 1 0 0 0 0 0 0 0 0]\n",
      " [0 0 0 0 0 0 0 0 0 0 0]\n",
      " [0 0 0 0 0 0 0 0 0 0 0]\n",
      " [0 0 0 0 0 0 1 0 2 0 0]\n",
      " [0 0 0 0 0 1 0 0 0 0 0]\n",
      " [0 0 0 0 0 1 1 0 2 1 0]\n",
      " [0 0 0 0 0 0 0 1 0 1 0]]\n",
      "\n",
      "Accuracy : 0.5\n",
      "Precision: nan\n",
      "Recall   : 0.0\n",
      "F1 score : nan\n",
      "Specificity : 1.0\n",
      "\n",
      "Classification Report: \n",
      "              precision    recall  f1-score   support\n",
      "\n",
      "          56       0.50      1.00      0.67         1\n",
      "          60       0.00      0.00      0.00         1\n",
      "          62       0.00      0.00      0.00         1\n",
      "          64       0.00      0.00      0.00         0\n",
      "          66       0.00      0.00      0.00         1\n",
      "          82       0.00      0.00      0.00         0\n",
      "          84       0.00      0.00      0.00         0\n",
      "          86       0.00      0.00      0.00         3\n",
      "          88       0.00      0.00      0.00         1\n",
      "          90       0.50      0.20      0.29         5\n",
      "          94       0.00      0.00      0.00         2\n",
      "\n",
      "    accuracy                           0.13        15\n",
      "   macro avg       0.09      0.11      0.09        15\n",
      "weighted avg       0.20      0.13      0.14        15\n",
      "\n",
      "\n",
      "\n",
      "############################################################################\n",
      "\n",
      "\n",
      "\n",
      "SupportVectorMachine validation score => 15.517241379310345\n",
      "SupportVectorMachine\n",
      "Train score of trained model: 15.068493150684931\n",
      "Validation score of trained model: 15.517241379310345\n",
      "Test score of trained model: 13.333333333333334\n",
      " \n",
      "Confussion Matrix: \n",
      "[[0 0 0 0 0 0 0 0]\n",
      " [0 0 0 0 0 0 0 0]\n",
      " [0 0 0 0 0 0 0 0]\n",
      " [0 0 0 0 0 0 0 0]\n",
      " [0 0 0 0 0 0 0 0]\n",
      " [0 0 0 0 0 0 0 0]\n",
      " [0 0 0 0 0 0 0 0]\n",
      " [2 1 1 2 2 1 4 2]]\n",
      "\n",
      "Accuracy : nan\n",
      "Precision: nan\n",
      "Recall   : nan\n",
      "F1 score : nan\n",
      "Specificity : nan\n",
      "\n",
      "Classification Report: \n",
      "              precision    recall  f1-score   support\n",
      "\n",
      "          56       0.00      0.00      0.00         0\n",
      "          62       0.00      0.00      0.00         0\n",
      "          64       0.00      0.00      0.00         0\n",
      "          82       0.00      0.00      0.00         0\n",
      "          84       0.00      0.00      0.00         0\n",
      "          86       0.00      0.00      0.00         0\n",
      "          88       0.00      0.00      0.00         0\n",
      "          90       1.00      0.13      0.24        15\n",
      "\n",
      "    accuracy                           0.13        15\n",
      "   macro avg       0.12      0.02      0.03        15\n",
      "weighted avg       1.00      0.13      0.24        15\n",
      "\n",
      "\n",
      "\n",
      "############################################################################\n",
      "\n",
      "\n",
      "\n",
      "DecisionTreeClassifier validation score => 24.137931034482758\n",
      "DecisionTreeClassifier\n",
      "Train score of trained model: 95.54794520547945\n",
      "Validation score of trained model: 24.137931034482758\n",
      "Test score of trained model: 13.333333333333334\n",
      " \n",
      "Confussion Matrix: \n",
      "[[1 0 0 0 0 0 0 0 0 0 0]\n",
      " [1 0 0 0 0 0 0 0 0 0 0]\n",
      " [0 0 0 1 0 0 0 0 0 0 0]\n",
      " [0 0 0 0 0 0 0 0 0 0 0]\n",
      " [0 0 1 0 0 0 0 0 0 0 0]\n",
      " [0 0 0 0 0 0 0 0 0 0 0]\n",
      " [0 0 0 0 0 0 0 0 0 0 0]\n",
      " [0 0 0 0 0 0 1 0 3 0 0]\n",
      " [0 0 0 0 0 1 0 0 0 0 0]\n",
      " [0 0 0 0 0 1 1 0 1 1 0]\n",
      " [0 0 0 0 0 0 0 1 0 1 0]]\n",
      "\n",
      "Accuracy : 0.5\n",
      "Precision: nan\n",
      "Recall   : 0.0\n",
      "F1 score : nan\n",
      "Specificity : 1.0\n",
      "\n",
      "Classification Report: \n",
      "              precision    recall  f1-score   support\n",
      "\n",
      "          56       0.50      1.00      0.67         1\n",
      "          60       0.00      0.00      0.00         1\n",
      "          62       0.00      0.00      0.00         1\n",
      "          64       0.00      0.00      0.00         0\n",
      "          66       0.00      0.00      0.00         1\n",
      "          82       0.00      0.00      0.00         0\n",
      "          84       0.00      0.00      0.00         0\n",
      "          86       0.00      0.00      0.00         4\n",
      "          88       0.00      0.00      0.00         1\n",
      "          90       0.50      0.25      0.33         4\n",
      "          94       0.00      0.00      0.00         2\n",
      "\n",
      "    accuracy                           0.13        15\n",
      "   macro avg       0.09      0.11      0.09        15\n",
      "weighted avg       0.17      0.13      0.13        15\n",
      "\n",
      "\n",
      "\n",
      "############################################################################\n",
      "\n",
      "\n",
      "\n",
      "KNeighborsClassifier validation score => 8.620689655172415\n",
      "KNeighborsClassifier\n",
      "Train score of trained model: 31.84931506849315\n",
      "Validation score of trained model: 8.620689655172415\n",
      "Test score of trained model: 13.333333333333334\n",
      " \n",
      "Confussion Matrix: \n",
      "[[1 0 0 0 0 0 0 0 0 0]\n",
      " [0 0 0 0 0 0 0 0 1 1]\n",
      " [0 0 0 0 0 0 1 1 0 0]\n",
      " [0 0 0 0 1 0 1 0 1 0]\n",
      " [0 0 0 0 0 1 0 0 0 0]\n",
      " [0 0 0 0 0 0 0 0 0 0]\n",
      " [0 0 0 0 0 0 0 0 0 0]\n",
      " [0 0 0 0 0 0 0 0 0 0]\n",
      " [0 0 0 0 0 0 0 0 0 0]\n",
      " [1 0 0 1 0 1 0 0 2 1]]\n",
      "\n",
      "Accuracy : 1.0\n",
      "Precision: nan\n",
      "Recall   : nan\n",
      "F1 score : nan\n",
      "Specificity : 1.0\n",
      "\n",
      "Classification Report: \n",
      "              precision    recall  f1-score   support\n",
      "\n",
      "          56       0.50      1.00      0.67         1\n",
      "          58       0.00      0.00      0.00         2\n",
      "          60       0.00      0.00      0.00         2\n",
      "          62       0.00      0.00      0.00         3\n",
      "          64       0.00      0.00      0.00         1\n",
      "          82       0.00      0.00      0.00         0\n",
      "          84       0.00      0.00      0.00         0\n",
      "          86       0.00      0.00      0.00         0\n",
      "          88       0.00      0.00      0.00         0\n",
      "          90       0.50      0.17      0.25         6\n",
      "\n",
      "    accuracy                           0.13        15\n",
      "   macro avg       0.10      0.12      0.09        15\n",
      "weighted avg       0.23      0.13      0.14        15\n",
      "\n",
      "\n",
      "\n",
      "############################################################################\n",
      "\n",
      "\n",
      "\n"
     ]
    },
    {
     "name": "stdout",
     "output_type": "stream",
     "text": [
      "GradientBoostingClassifier validation score => 25.862068965517242\n",
      "GradientBoostingClassifier\n",
      "Train score of trained model: 94.17808219178082\n",
      "Validation score of trained model: 25.862068965517242\n",
      "Test score of trained model: 6.666666666666667\n",
      " \n",
      "Confussion Matrix: \n",
      "[[0 0 0 0 0 0 0 0 0 0 0]\n",
      " [2 0 0 1 0 0 0 0 0 0 0]\n",
      " [0 0 0 0 0 0 0 0 0 0 0]\n",
      " [0 0 0 0 0 0 0 0 0 0 0]\n",
      " [0 0 1 0 0 0 0 0 0 0 0]\n",
      " [0 0 0 0 0 0 0 0 0 0 0]\n",
      " [0 0 0 0 0 0 0 0 0 0 0]\n",
      " [0 0 0 0 0 1 1 0 2 0 0]\n",
      " [0 0 0 0 0 1 0 0 0 0 0]\n",
      " [0 0 0 0 0 0 1 0 1 1 0]\n",
      " [0 0 0 0 0 0 0 1 1 1 0]]\n",
      "\n",
      "Accuracy : 0.0\n",
      "Precision: nan\n",
      "Recall   : 0.0\n",
      "F1 score : nan\n",
      "Specificity : nan\n",
      "\n",
      "Classification Report: \n",
      "              precision    recall  f1-score   support\n",
      "\n",
      "          56       0.00      0.00      0.00         0\n",
      "          60       0.00      0.00      0.00         3\n",
      "          62       0.00      0.00      0.00         0\n",
      "          64       0.00      0.00      0.00         0\n",
      "          66       0.00      0.00      0.00         1\n",
      "          82       0.00      0.00      0.00         0\n",
      "          84       0.00      0.00      0.00         0\n",
      "          86       0.00      0.00      0.00         4\n",
      "          88       0.00      0.00      0.00         1\n",
      "          90       0.50      0.33      0.40         3\n",
      "          94       0.00      0.00      0.00         3\n",
      "\n",
      "    accuracy                           0.07        15\n",
      "   macro avg       0.05      0.03      0.04        15\n",
      "weighted avg       0.10      0.07      0.08        15\n",
      "\n",
      "\n",
      "\n",
      "############################################################################\n",
      "\n",
      "\n",
      "\n",
      "Stochastic Gradient Descent validation score => 20.689655172413794\n",
      "Stochastic Gradient Descent\n",
      "Train score of trained model: 11.301369863013697\n",
      "Validation score of trained model: 20.689655172413794\n",
      "Test score of trained model: 6.666666666666667\n",
      " \n",
      "Confussion Matrix: \n",
      "[[0 0 0 0 0 0 0 0]\n",
      " [0 0 0 0 0 0 0 0]\n",
      " [0 0 0 0 0 0 0 0]\n",
      " [0 0 0 0 0 0 0 0]\n",
      " [0 0 0 0 0 0 0 0]\n",
      " [2 1 1 2 2 1 4 2]\n",
      " [0 0 0 0 0 0 0 0]\n",
      " [0 0 0 0 0 0 0 0]]\n",
      "\n",
      "Accuracy : nan\n",
      "Precision: nan\n",
      "Recall   : nan\n",
      "F1 score : nan\n",
      "Specificity : nan\n",
      "\n",
      "Classification Report: \n",
      "              precision    recall  f1-score   support\n",
      "\n",
      "          56       0.00      0.00      0.00         0\n",
      "          62       0.00      0.00      0.00         0\n",
      "          64       0.00      0.00      0.00         0\n",
      "          82       0.00      0.00      0.00         0\n",
      "          84       0.00      0.00      0.00         0\n",
      "          86       1.00      0.07      0.12        15\n",
      "          88       0.00      0.00      0.00         0\n",
      "          90       0.00      0.00      0.00         0\n",
      "\n",
      "    accuracy                           0.07        15\n",
      "   macro avg       0.12      0.01      0.02        15\n",
      "weighted avg       1.00      0.07      0.12        15\n",
      "\n",
      "\n",
      "\n",
      "############################################################################\n",
      "\n",
      "\n",
      "\n",
      "Neural Nets validation score => 15.517241379310345\n",
      "Neural Nets\n",
      "Train score of trained model: 15.068493150684931\n",
      "Validation score of trained model: 15.517241379310345\n",
      "Test score of trained model: 13.333333333333334\n",
      " \n",
      "Confussion Matrix: \n",
      "[[0 0 0 0 0 0 0 0]\n",
      " [0 0 0 0 0 0 0 0]\n",
      " [0 0 0 0 0 0 0 0]\n",
      " [0 0 0 0 0 0 0 0]\n",
      " [0 0 0 0 0 0 0 0]\n",
      " [0 0 0 0 0 0 0 0]\n",
      " [0 0 0 0 0 0 0 0]\n",
      " [2 1 1 2 2 1 4 2]]\n",
      "\n",
      "Accuracy : nan\n",
      "Precision: nan\n",
      "Recall   : nan\n",
      "F1 score : nan\n",
      "Specificity : nan\n",
      "\n",
      "Classification Report: \n",
      "              precision    recall  f1-score   support\n",
      "\n",
      "          56       0.00      0.00      0.00         0\n",
      "          62       0.00      0.00      0.00         0\n",
      "          64       0.00      0.00      0.00         0\n",
      "          82       0.00      0.00      0.00         0\n",
      "          84       0.00      0.00      0.00         0\n",
      "          86       0.00      0.00      0.00         0\n",
      "          88       0.00      0.00      0.00         0\n",
      "          90       1.00      0.13      0.24        15\n",
      "\n",
      "    accuracy                           0.13        15\n",
      "   macro avg       0.12      0.02      0.03        15\n",
      "weighted avg       1.00      0.13      0.24        15\n",
      "\n",
      "\n",
      "\n",
      "############################################################################\n",
      "\n",
      "\n",
      "\n"
     ]
    }
   ],
   "source": [
    "models = {\n",
    "    'GaussianNB': GaussianNB(),\n",
    "    'BernoulliNB': BernoulliNB(),\n",
    "    'LogisticRegression': LogisticRegression(),\n",
    "    'RandomForestClassifier': RandomForestClassifier(),\n",
    "    'SupportVectorMachine': SVC(),\n",
    "    'DecisionTreeClassifier': DecisionTreeClassifier(),\n",
    "    'KNeighborsClassifier': KNeighborsClassifier(),\n",
    "    'GradientBoostingClassifier': GradientBoostingClassifier(),\n",
    "    'Stochastic Gradient Descent':  SGDClassifier(max_iter=5000, random_state=0),\n",
    "    'Neural Nets': MLPClassifier(solver='lbfgs', alpha=1e-5, hidden_layer_sizes=(5000, 10), random_state=1),\n",
    "}\n",
    "\n",
    "modelNames = [\"GaussianNB\", 'BernoulliNB','LogisticRegression','RandomForestClassifier','SupportVectorMachine',\n",
    "             'DecisionTreeClassifier', 'KNeighborsClassifier','GradientBoostingClassifier',\n",
    "             'Stochastic Gradient Descent', 'Neural Nets']\n",
    "\n",
    "trainScores = []\n",
    "validationScores = []\n",
    "testScores = []\n",
    "\n",
    "for m in models:\n",
    "  model = models[m]\n",
    "  model.fit(X_train, y_train)\n",
    "  score = model.score(X_valid, y_valid)\n",
    "  print(f'{m} validation score => {score*100}')\n",
    "    \n",
    "  print(f'{m}') \n",
    "  train_score = model.score(X_train, y_train)\n",
    "  print(f'Train score of trained model: {train_score*100}')\n",
    "  trainScores.append(train_score*100)\n",
    "\n",
    "  validation_score = model.score(X_valid, y_valid)\n",
    "  print(f'Validation score of trained model: {validation_score*100}')\n",
    "  validationScores.append(validation_score*100)\n",
    "\n",
    "  test_score = model.score(X_test, y_test)\n",
    "  print(f'Test score of trained model: {test_score*100}')\n",
    "  testScores.append(test_score*100)\n",
    "  print(\" \")\n",
    "    \n",
    "  y_predictions = model.predict(X_test)\n",
    "  conf_matrix = confusion_matrix(y_predictions, y_test)\n",
    "\n",
    "  print(f'Confussion Matrix: \\n{conf_matrix}\\n')\n",
    "\n",
    "  predictions = model.predict(X_test)\n",
    "  cm = confusion_matrix(predictions, y_test)\n",
    "\n",
    "  tn = conf_matrix[0,0]\n",
    "  fp = conf_matrix[0,1]\n",
    "  tp = conf_matrix[1,1]\n",
    "  fn = conf_matrix[1,0]\n",
    "  accuracy  = (tp + tn) / (tp + fp + tn + fn)\n",
    "  precision = tp / (tp + fp)\n",
    "  recall    = tp / (tp + fn)\n",
    "  f1score  = 2 * precision * recall / (precision + recall)\n",
    "  specificity = tn / (tn + fp)\n",
    "  print(f'Accuracy : {accuracy}')\n",
    "  print(f'Precision: {precision}')\n",
    "  print(f'Recall   : {recall}')\n",
    "  print(f'F1 score : {f1score}')\n",
    "  print(f'Specificity : {specificity}')\n",
    "  print(\"\") \n",
    "  print(f'Classification Report: \\n{classification_report(predictions, y_test)}\\n')\n",
    "  print(\"\")\n",
    "   \n",
    "  for m in range (1):\n",
    "    current = modelNames[m]\n",
    "    modelNames.remove(modelNames[m])\n",
    "\n",
    "  preds = model.predict(X_test)\n",
    "  confusion_matr = confusion_matrix(y_test, preds) #normalize = 'true'\n",
    "  print(\"############################################################################\")\n",
    "  print(\"\")\n",
    "  print(\"\")\n",
    "  print(\"\")"
   ]
  },
  {
   "cell_type": "code",
   "execution_count": 38,
   "metadata": {},
   "outputs": [
    {
     "data": {
      "image/png": "[encoded data removed]",
      "text/plain": [
       "<Figure size 1440x720 with 1 Axes>"
      ]
     },
     "metadata": {},
     "output_type": "display_data"
    }
   ],
   "source": [
    "plt.figure(figsize=(20,10))\n",
    "sns.set_style('darkgrid')\n",
    "plt.title('Train - Validation - Test Scores of Models', fontweight='bold', size = 24)\n",
    "\n",
    "barWidth = 0.25\n",
    " \n",
    "bars1 = trainScores\n",
    "bars2 = validationScores\n",
    "bars3 = testScores\n",
    " \n",
    "r1 = np.arange(len(bars1))\n",
    "r2 = [x + barWidth for x in r1]\n",
    "r3 = [x + barWidth for x in r2]\n",
    " \n",
    "plt.bar(r1, bars1, color='blue', width=barWidth, edgecolor='white', label='train', yerr=0.5,ecolor=\"black\",capsize=10)\n",
    "plt.bar(r2, bars2, color='#557f2d', width=barWidth, edgecolor='white', label='validation', yerr=0.5,ecolor=\"black\",capsize=10, alpha = .50)\n",
    "plt.bar(r3, bars3, color='red', width=barWidth, edgecolor='white', label='test', yerr=0.5,ecolor=\"black\",capsize=10, hatch = '-')\n",
    " \n",
    "modelNames = [\"GaussianNB\", 'BernoulliNB','LogisticRegression','RandomForestClassifier','SupportVectorMachine',\n",
    "             'DecisionTreeClassifier', 'KNeighborsClassifier','GradientBoostingClassifier',\n",
    "             'Stochastic Gradient Descent', 'Neural Nets']\n",
    "    \n",
    "plt.xlabel('Algorithms', fontweight='bold', size = 24)\n",
    "plt.ylabel('Scores', fontweight='bold', size = 24)\n",
    "plt.xticks([r + barWidth for r in range(len(bars1))], modelNames, rotation = 75)\n",
    " \n",
    "plt.legend()\n",
    "plt.show()"
   ]
  },
  {
   "cell_type": "markdown",
   "metadata": {},
   "source": [
    "You can measure variable importance in regression analysis, by fitting a regression model using the standardized independent variables and comparing the absolute value of their standardized coefficients. But, if the independent variables are not standardized, comparing their coefficients becomes meaningless."
   ]
  },
  {
   "cell_type": "code",
   "execution_count": 39,
   "metadata": {},
   "outputs": [
    {
     "name": "stdout",
     "output_type": "stream",
     "text": [
      "Accuracy of GaussianNB -----> 26.666666666666668\n",
      "Accuracy of BernoulliNB -----> 20.0\n",
      "Accuracy of LogisticRegression -----> 13.333333333333334\n",
      "Accuracy of RandomForestClassifier -----> 13.333333333333334\n",
      "Accuracy of SupportVectorMachine -----> 13.333333333333334\n",
      "Accuracy of DecisionTreeClassifier -----> 13.333333333333334\n",
      "Accuracy of KNeighborsClassifier -----> 13.333333333333334\n",
      "Accuracy of GradientBoostingClassifier -----> 6.666666666666667\n",
      "Accuracy of Stochastic Gradient Descent -----> 6.666666666666667\n",
      "Accuracy of Neural Nets -----> 13.333333333333334\n"
     ]
    }
   ],
   "source": [
    "for i in range(10):\n",
    "    print(f'Accuracy of {modelNames[i]} -----> {testScores[i]}')"
   ]
  },
  {
   "cell_type": "markdown",
   "metadata": {},
   "source": [
    "# Random Forest Model"
   ]
  },
  {
   "cell_type": "code",
   "execution_count": 40,
   "metadata": {},
   "outputs": [],
   "source": [
    "clf = RandomForestClassifier()\n",
    "clf.fit(X_train,y_train)\n",
    "y_pred=clf.predict(X_test)"
   ]
  },
  {
   "cell_type": "code",
   "execution_count": 41,
   "metadata": {},
   "outputs": [
    {
     "name": "stdout",
     "output_type": "stream",
     "text": [
      "Accuracy: 0.2\n"
     ]
    }
   ],
   "source": [
    "from sklearn import metrics\n",
    "print(\"Accuracy:\",metrics.accuracy_score(y_test, y_pred))"
   ]
  },
  {
   "cell_type": "code",
   "execution_count": 48,
   "metadata": {},
   "outputs": [],
   "source": [
    "og = transaction.iloc[:,1]\n",
    "y_pred = clf.predict(X)"
   ]
  },
  {
   "cell_type": "code",
   "execution_count": 49,
   "metadata": {},
   "outputs": [
    {
     "name": "stdout",
     "output_type": "stream",
     "text": [
      "46 ===> 46\n",
      "70 ===> 70\n",
      "62 ===> 62\n",
      "88 ===> 88\n",
      "104 ===> 104\n",
      "106 ===> 100\n",
      "76 ===> 70\n",
      "76 ===> 70\n",
      "106 ===> 106\n",
      "108 ===> 108\n",
      "104 ===> 104\n",
      "102 ===> 102\n",
      "100 ===> 100\n",
      "74 ===> 74\n",
      "60 ===> 60\n",
      "106 ===> 104\n",
      "106 ===> 106\n",
      "108 ===> 108\n",
      "100 ===> 100\n",
      "100 ===> 100\n",
      "74 ===> 70\n",
      "74 ===> 74\n",
      "108 ===> 108\n",
      "100 ===> 100\n",
      "100 ===> 100\n",
      "106 ===> 106\n",
      "90 ===> 86\n",
      "62 ===> 62\n",
      "70 ===> 70\n",
      "106 ===> 106\n",
      "84 ===> 84\n",
      "90 ===> 90\n",
      "64 ===> 64\n",
      "62 ===> 62\n",
      "42 ===> 42\n",
      "38 ===> 38\n",
      "56 ===> 56\n",
      "56 ===> 56\n",
      "60 ===> 60\n",
      "88 ===> 88\n",
      "92 ===> 90\n",
      "76 ===> 76\n",
      "72 ===> 72\n",
      "90 ===> 90\n",
      "82 ===> 82\n",
      "86 ===> 86\n",
      "86 ===> 86\n",
      "84 ===> 84\n",
      "62 ===> 62\n",
      "60 ===> 60\n",
      "88 ===> 88\n",
      "90 ===> 90\n",
      "90 ===> 90\n",
      "90 ===> 88\n",
      "90 ===> 82\n",
      "66 ===> 62\n",
      "62 ===> 60\n",
      "82 ===> 82\n",
      "86 ===> 86\n",
      "90 ===> 84\n",
      "90 ===> 86\n",
      "64 ===> 64\n",
      "62 ===> 62\n",
      "88 ===> 88\n",
      "86 ===> 86\n",
      "86 ===> 84\n",
      "86 ===> 86\n",
      "90 ===> 90\n",
      "60 ===> 56\n",
      "62 ===> 64\n",
      "84 ===> 84\n",
      "88 ===> 88\n",
      "84 ===> 84\n",
      "86 ===> 86\n",
      "86 ===> 88\n",
      "56 ===> 56\n",
      "66 ===> 60\n",
      "88 ===> 88\n",
      "88 ===> 84\n",
      "90 ===> 90\n",
      "90 ===> 90\n",
      "90 ===> 90\n",
      "56 ===> 56\n",
      "62 ===> 62\n",
      "90 ===> 90\n",
      "90 ===> 90\n",
      "88 ===> 88\n",
      "86 ===> 86\n",
      "84 ===> 84\n",
      "58 ===> 60\n",
      "60 ===> 58\n",
      "82 ===> 82\n",
      "64 ===> 64\n",
      "58 ===> 58\n",
      "62 ===> 62\n",
      "82 ===> 82\n",
      "64 ===> 64\n",
      "64 ===> 64\n",
      "86 ===> 86\n",
      "88 ===> 88\n",
      "92 ===> 84\n",
      "88 ===> 82\n",
      "86 ===> 90\n",
      "64 ===> 64\n",
      "58 ===> 58\n",
      "82 ===> 82\n",
      "94 ===> 82\n",
      "90 ===> 90\n",
      "88 ===> 88\n",
      "86 ===> 86\n",
      "56 ===> 56\n",
      "64 ===> 64\n",
      "90 ===> 90\n",
      "90 ===> 82\n",
      "90 ===> 88\n",
      "82 ===> 82\n",
      "88 ===> 88\n",
      "62 ===> 62\n",
      "58 ===> 58\n",
      "64 ===> 64\n",
      "62 ===> 64\n",
      "62 ===> 62\n",
      "90 ===> 86\n",
      "94 ===> 94\n",
      "66 ===> 62\n",
      "66 ===> 66\n",
      "90 ===> 90\n",
      "88 ===> 88\n",
      "94 ===> 94\n",
      "88 ===> 88\n",
      "94 ===> 94\n",
      "60 ===> 60\n",
      "64 ===> 58\n",
      "94 ===> 94\n",
      "86 ===> 86\n",
      "90 ===> 88\n",
      "90 ===> 90\n",
      "92 ===> 92\n",
      "58 ===> 58\n",
      "62 ===> 62\n",
      "86 ===> 92\n",
      "88 ===> 90\n",
      "90 ===> 90\n",
      "90 ===> 90\n",
      "88 ===> 88\n",
      "60 ===> 60\n",
      "60 ===> 60\n",
      "94 ===> 86\n",
      "90 ===> 90\n",
      "90 ===> 90\n",
      "88 ===> 88\n",
      "86 ===> 86\n",
      "60 ===> 60\n",
      "66 ===> 66\n",
      "58 ===> 58\n",
      "62 ===> 62\n",
      "62 ===> 62\n",
      "92 ===> 92\n",
      "92 ===> 92\n",
      "64 ===> 64\n",
      "62 ===> 62\n",
      "92 ===> 92\n",
      "86 ===> 90\n",
      "88 ===> 88\n",
      "88 ===> 88\n",
      "94 ===> 94\n",
      "64 ===> 64\n",
      "60 ===> 60\n",
      "92 ===> 92\n",
      "86 ===> 86\n",
      "86 ===> 94\n",
      "92 ===> 92\n",
      "92 ===> 92\n",
      "62 ===> 64\n",
      "62 ===> 62\n",
      "92 ===> 92\n",
      "88 ===> 88\n",
      "94 ===> 94\n",
      "94 ===> 94\n",
      "94 ===> 94\n",
      "64 ===> 64\n",
      "62 ===> 62\n",
      "90 ===> 90\n",
      "90 ===> 90\n",
      "92 ===> 92\n",
      "94 ===> 94\n",
      "86 ===> 88\n",
      "58 ===> 58\n",
      "64 ===> 64\n",
      "86 ===> 86\n",
      "86 ===> 86\n",
      "86 ===> 88\n",
      "86 ===> 86\n",
      "88 ===> 86\n",
      "58 ===> 58\n",
      "64 ===> 64\n",
      "86 ===> 86\n",
      "88 ===> 88\n",
      "92 ===> 88\n",
      "90 ===> 92\n",
      "90 ===> 90\n",
      "60 ===> 60\n",
      "60 ===> 60\n",
      "94 ===> 94\n",
      "86 ===> 86\n",
      "92 ===> 92\n",
      "94 ===> 90\n",
      "90 ===> 90\n",
      "60 ===> 60\n",
      "66 ===> 66\n",
      "90 ===> 86\n",
      "90 ===> 90\n",
      "94 ===> 86\n",
      "90 ===> 90\n",
      "90 ===> 90\n",
      "66 ===> 66\n",
      "64 ===> 64\n",
      "86 ===> 86\n",
      "92 ===> 90\n",
      "92 ===> 94\n",
      "86 ===> 92\n",
      "86 ===> 86\n",
      "62 ===> 62\n",
      "58 ===> 58\n",
      "88 ===> 94\n",
      "90 ===> 90\n",
      "90 ===> 90\n",
      "88 ===> 88\n",
      "94 ===> 94\n",
      "62 ===> 62\n",
      "64 ===> 64\n",
      "86 ===> 86\n",
      "90 ===> 90\n",
      "88 ===> 88\n",
      "88 ===> 88\n",
      "92 ===> 86\n",
      "62 ===> 62\n",
      "62 ===> 62\n",
      "94 ===> 94\n",
      "94 ===> 90\n",
      "94 ===> 88\n",
      "90 ===> 90\n",
      "94 ===> 94\n",
      "64 ===> 64\n",
      "58 ===> 58\n",
      "90 ===> 90\n",
      "90 ===> 90\n",
      "92 ===> 92\n",
      "86 ===> 86\n",
      "90 ===> 90\n",
      "66 ===> 66\n",
      "64 ===> 64\n",
      "66 ===> 66\n",
      "58 ===> 58\n",
      "58 ===> 60\n",
      "86 ===> 86\n",
      "90 ===> 90\n",
      "64 ===> 64\n",
      "64 ===> 64\n",
      "94 ===> 86\n",
      "90 ===> 88\n",
      "92 ===> 92\n",
      "88 ===> 88\n",
      "86 ===> 86\n",
      "66 ===> 62\n",
      "66 ===> 66\n",
      "94 ===> 94\n",
      "90 ===> 90\n",
      "94 ===> 94\n",
      "90 ===> 90\n",
      "90 ===> 86\n",
      "64 ===> 64\n",
      "58 ===> 58\n",
      "58 ===> 58\n",
      "58 ===> 58\n",
      "64 ===> 64\n",
      "66 ===> 66\n",
      "60 ===> 60\n",
      "42 ===> 42\n",
      "48 ===> 48\n",
      "86 ===> 86\n",
      "94 ===> 94\n",
      "94 ===> 94\n",
      "92 ===> 92\n",
      "88 ===> 88\n",
      "64 ===> 64\n",
      "64 ===> 64\n",
      "86 ===> 86\n",
      "94 ===> 94\n",
      "94 ===> 94\n",
      "90 ===> 90\n",
      "90 ===> 90\n",
      "64 ===> 64\n",
      "64 ===> 64\n",
      "88 ===> 90\n",
      "90 ===> 90\n",
      "88 ===> 88\n",
      "86 ===> 86\n",
      "92 ===> 92\n",
      "62 ===> 64\n",
      "62 ===> 62\n",
      "92 ===> 92\n",
      "84 ===> 86\n",
      "84 ===> 94\n",
      "94 ===> 94\n",
      "94 ===> 94\n",
      "58 ===> 58\n",
      "64 ===> 64\n",
      "88 ===> 88\n",
      "86 ===> 86\n",
      "86 ===> 86\n",
      "86 ===> 88\n",
      "90 ===> 90\n",
      "60 ===> 60\n",
      "62 ===> 62\n",
      "90 ===> 90\n",
      "86 ===> 86\n",
      "88 ===> 88\n",
      "86 ===> 86\n",
      "86 ===> 86\n",
      "62 ===> 62\n",
      "66 ===> 66\n",
      "92 ===> 92\n",
      "88 ===> 92\n",
      "86 ===> 86\n",
      "90 ===> 94\n",
      "90 ===> 90\n",
      "66 ===> 64\n",
      "66 ===> 66\n",
      "86 ===> 86\n",
      "90 ===> 90\n",
      "94 ===> 94\n",
      "86 ===> 92\n",
      "90 ===> 90\n",
      "60 ===> 60\n",
      "66 ===> 66\n",
      "92 ===> 92\n",
      "88 ===> 88\n",
      "90 ===> 90\n",
      "94 ===> 94\n",
      "110 ===> 110\n",
      "76 ===> 76\n",
      "76 ===> 58\n",
      "92 ===> 92\n",
      "86 ===> 86\n",
      "90 ===> 90\n",
      "90 ===> 90\n",
      "106 ===> 106\n",
      "78 ===> 78\n",
      "74 ===> 74\n",
      "110 ===> 110\n",
      "110 ===> 110\n",
      "86 ===> 86\n",
      "94 ===> 94\n",
      "110 ===> 110\n",
      "78 ===> 78\n",
      "58 ===> 58\n",
      "110 ===> 110\n",
      "112 ===> 112\n",
      "90 ===> 90\n",
      "82 ===> 88\n",
      "108 ===> 108\n",
      "58 ===> 58\n",
      "62 ===> 62\n",
      "102 ===> 102\n"
     ]
    }
   ],
   "source": [
    "for i in range(365):\n",
    "    print(y_pred[i],'===>',og[i])"
   ]
  },
  {
   "cell_type": "code",
   "execution_count": 50,
   "metadata": {},
   "outputs": [
    {
     "name": "stdout",
     "output_type": "stream",
     "text": [
      "Train score of trained model: 0.9554794520547946\n",
      "Test score of trained model: 0.2\n",
      "Accuracy: 20.0\n",
      "\n",
      "Confussion matrix: \n",
      "[[1 0 0 0 0 0 0 0 0 0 0]\n",
      " [1 0 0 0 0 0 0 0 0 0 0]\n",
      " [0 0 0 1 0 0 0 0 0 0 0]\n",
      " [0 0 0 0 0 0 0 0 0 0 0]\n",
      " [0 0 1 0 0 0 0 0 0 0 0]\n",
      " [0 0 0 0 0 0 0 0 0 0 0]\n",
      " [0 0 0 0 0 0 0 0 0 0 0]\n",
      " [0 0 0 0 0 0 1 1 2 0 0]\n",
      " [0 0 0 0 0 1 0 0 0 0 0]\n",
      " [0 0 0 0 0 0 1 0 1 1 0]\n",
      " [0 0 0 0 0 1 0 0 1 1 0]]\n",
      "\n"
     ]
    }
   ],
   "source": [
    "clf = RandomForestClassifier()\n",
    "clf.fit(X_train,y_train)\n",
    "\n",
    "train_score = clf.score(X_train, y_train)\n",
    "print(f'Train score of trained model: {train_score}')\n",
    "\n",
    "# validation_score = clf.score(X_valid, y_valid)\n",
    "# print(f'Validation score of trained model: {validation_score}')\n",
    "\n",
    "test_score = clf.score(X_test, y_test)\n",
    "print(f'Test score of trained model: {test_score}')\n",
    "\n",
    "y_predictions = clf.predict(X_test)\n",
    "\n",
    "conf_matrix = confusion_matrix(y_predictions, y_test)\n",
    "\n",
    "\n",
    "print(f'Accuracy: {accuracy_score(y_predictions, y_test)*100}')\n",
    "print()\n",
    "print(f'Confussion matrix: \\n{conf_matrix}\\n')"
   ]
  },
  {
   "cell_type": "markdown",
   "metadata": {},
   "source": [
    "# Feature Importance"
   ]
  },
  {
   "cell_type": "code",
   "execution_count": 51,
   "metadata": {},
   "outputs": [
    {
     "data": {
      "text/plain": [
       "DATE                   44.479914\n",
       "AVERAGE_TEMPERATURE    43.845826\n",
       "IS_WEEKEND              7.948038\n",
       "HOLIDAY                 3.726222\n",
       "YEAR                    0.000000\n",
       "dtype: float64"
      ]
     },
     "execution_count": 51,
     "metadata": {},
     "output_type": "execute_result"
    }
   ],
   "source": [
    "import pandas as pd\n",
    "feature_imp = pd.Series(clf.feature_importances_,index=features).sort_values(ascending=False)\n",
    "feature_imp*100"
   ]
  },
  {
   "cell_type": "code",
   "execution_count": null,
   "metadata": {},
   "outputs": [],
   "source": []
  }
 ],
 "metadata": {
  "kernelspec": {
   "display_name": "Python 3",
   "language": "python",
   "name": "python3"
  },
  "language_info": {
   "codemirror_mode": {
    "name": "ipython",
    "version": 3
   },
   "file_extension": ".py",
   "mimetype": "text/x-python",
   "name": "python",
   "nbconvert_exporter": "python",
   "pygments_lexer": "ipython3",
   "version": "3.8.5"
  }
 },
 "nbformat": 4,
 "nbformat_minor": 4
}
